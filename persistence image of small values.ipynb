{
 "cells": [
  {
   "cell_type": "code",
   "execution_count": null,
   "metadata": {},
   "outputs": [],
   "source": []
  },
  {
   "cell_type": "markdown",
   "metadata": {},
   "source": [
    "### Persistance images from small values"
   ]
  },
  {
   "cell_type": "code",
   "execution_count": 2,
   "metadata": {},
   "outputs": [],
   "source": []
  },
  {
   "cell_type": "code",
   "execution_count": 32,
   "metadata": {},
   "outputs": [],
   "source": [
    "import numpy as np\n",
    "from sklearn import datasets\n",
    "from sklearn.linear_model import LogisticRegression\n",
    "from sklearn.model_selection import train_test_split\n",
    "\n",
    "import matplotlib.pyplot as plt\n",
    "\n",
    "from ripser import Rips\n",
    "from persim import PersImage\n",
    "from persim import PersistenceImager"
   ]
  },
  {
   "cell_type": "code",
   "execution_count": 33,
   "metadata": {},
   "outputs": [],
   "source": [
    "import matplotlib as mpl\n",
    "mpl.rcParams.update(mpl.rcParamsDefault)"
   ]
  },
  {
   "cell_type": "code",
   "execution_count": 34,
   "metadata": {},
   "outputs": [],
   "source": [
    "# import all the pkl files in the directory to a list\n",
    "import glob\n",
    "import pickle"
   ]
  },
  {
   "cell_type": "code",
   "execution_count": 35,
   "metadata": {},
   "outputs": [],
   "source": [
    "# import the data\n",
    "data = []\n",
    "for file in glob.glob(\"./tennessee/results/selected coordinates for each county/*.pkl\"):\n",
    "    with open(file, 'rb') as f:\n",
    "        data.append(pickle.load(f))"
   ]
  },
  {
   "cell_type": "code",
   "execution_count": 36,
   "metadata": {},
   "outputs": [
    {
     "data": {
      "text/plain": [
       "{'EP_DISABL':              FIPS  EP_DISABL  \\\n",
       " 9     47093000901        4.1   \n",
       " 382   47093001800       15.3   \n",
       " 387   47093002400       15.4   \n",
       " 389   47093002800       14.4   \n",
       " 391   47093003000       12.6   \n",
       " ...           ...        ...   \n",
       " 1452  47093002600       11.4   \n",
       " 1453  47093004404        9.7   \n",
       " 1454  47093004500        8.2   \n",
       " 1458  47093006900        4.9   \n",
       " 1490  47093000100       16.0   \n",
       " \n",
       "                                                geometry  \\\n",
       " 9     POLYGON ((-83.93293 35.95745, -83.93079 35.958...   \n",
       " 382   POLYGON ((-83.91070 36.00319, -83.90901 36.005...   \n",
       " 387   POLYGON ((-83.93122 35.93312, -83.93110 35.934...   \n",
       " 389   POLYGON ((-83.97953 35.98017, -83.97910 35.981...   \n",
       " 391   POLYGON ((-83.92247 36.01896, -83.91369 36.021...   \n",
       " ...                                                 ...   \n",
       " 1452  POLYGON ((-83.97965 35.95257, -83.96794 35.958...   \n",
       " 1453  POLYGON ((-84.03695 35.93007, -84.02293 35.933...   \n",
       " 1454  POLYGON ((-84.06289 35.93263, -84.05881 35.938...   \n",
       " 1458  POLYGON ((-83.94678 35.96313, -83.94659 35.963...   \n",
       " 1490  POLYGON ((-83.92939 35.96860, -83.92298 35.970...   \n",
       " \n",
       "                                         coords  \n",
       " 9     (-83.92517834651525, 35.953013500000054)  \n",
       " 382   (-83.89851591473008, 36.001472000000064)  \n",
       " 387    (-83.91761753047552, 35.93620450000006)  \n",
       " 389    (-83.9619709633788, 35.986049000000065)  \n",
       " 391    (-83.90595173624183, 36.01740900000007)  \n",
       " ...                                        ...  \n",
       " 1452  (-83.96033631346822, 35.953966500000035)  \n",
       " 1453   (-84.01365043084164, 35.92617400000006)  \n",
       " 1454  (-84.03650435267704, 35.936491000000075)  \n",
       " 1458  (-83.93534076130037, 35.960570500000046)  \n",
       " 1490   (-83.92000289288305, 35.96479350000004)  \n",
       " \n",
       " [80 rows x 4 columns],\n",
       " 'EP_NOHSDP': Empty GeoDataFrame\n",
       " Columns: [FIPS, EP_NOHSDP, geometry, coords]\n",
       " Index: [],\n",
       " 'EP_PCI':              FIPS   EP_PCI                                           geometry  \\\n",
       " 9     47093000901   2459.0  POLYGON ((-83.93293 35.95745, -83.93079 35.958...   \n",
       " 383   47093002000  14446.0  POLYGON ((-83.89374 35.98297, -83.89179 35.984...   \n",
       " 384   47093002100  16947.0  POLYGON ((-83.89023 35.97336, -83.88636 35.975...   \n",
       " 385   47093002200  23727.0  POLYGON ((-83.89707 35.94900, -83.89530 35.953...   \n",
       " 387   47093002400  15492.0  POLYGON ((-83.93122 35.93312, -83.93110 35.934...   \n",
       " 388   47093002700  14692.0  POLYGON ((-83.97983 35.97182, -83.97941 35.974...   \n",
       " 389   47093002800  14209.0  POLYGON ((-83.97953 35.98017, -83.97910 35.981...   \n",
       " 390   47093002900  13728.0  POLYGON ((-83.95641 36.00201, -83.95461 36.003...   \n",
       " 391   47093003000  18762.0  POLYGON ((-83.92247 36.01896, -83.91369 36.021...   \n",
       " 392   47093003100  23422.0  POLYGON ((-83.89875 36.01172, -83.89351 36.015...   \n",
       " 393   47093003200  17204.0  POLYGON ((-83.87707 35.99957, -83.87545 36.001...   \n",
       " 398   47093003901  22776.0  POLYGON ((-84.00477 35.98565, -84.00243 35.989...   \n",
       " 399   47093003902  21488.0  POLYGON ((-83.98563 36.00119, -83.98152 36.004...   \n",
       " 400   47093004000  19857.0  POLYGON ((-83.97061 36.01094, -83.96707 36.015...   \n",
       " 401   47093004100  25471.0  POLYGON ((-83.95334 36.02560, -83.94811 36.028...   \n",
       " 403   47093004300  24611.0  POLYGON ((-83.92718 36.02603, -83.92247 36.027...   \n",
       " 408   47093004609  26308.0  POLYGON ((-84.09469 35.93898, -84.09458 35.940...   \n",
       " 413   47093004615  25894.0  POLYGON ((-84.04967 35.95656, -84.04720 35.959...   \n",
       " 415   47093004800  24021.0  POLYGON ((-84.02911 36.00609, -84.02789 36.007...   \n",
       " 417   47093005000  24918.0  POLYGON ((-83.95717 36.03695, -83.95585 36.039...   \n",
       " 419   47093005202  25530.0  POLYGON ((-83.86871 36.03576, -83.86822 36.036...   \n",
       " 420   47093005301  26569.0  POLYGON ((-83.83179 36.02062, -83.82625 36.023...   \n",
       " 421   47093005302  26658.0  POLYGON ((-83.77370 36.00506, -83.77288 36.005...   \n",
       " 423   47093005501  25296.0  POLYGON ((-83.86668 35.92932, -83.86644 35.931...   \n",
       " 452   47093006102  25194.0  POLYGON ((-84.09134 36.07144, -84.09300 36.073...   \n",
       " 453   47093006103  25919.0  POLYGON ((-84.07012 36.02888, -84.06819 36.031...   \n",
       " 454   47093006104  25752.0  POLYGON ((-84.06497 36.04872, -84.06117 36.052...   \n",
       " 456   47093006203  23949.0  POLYGON ((-83.92784 36.07483, -83.92710 36.079...   \n",
       " 460   47093006302  25163.0  POLYGON ((-83.96861 36.17128, -83.96461 36.173...   \n",
       " 461   47093006401  23631.0  POLYGON ((-83.90157 36.09114, -83.89604 36.096...   \n",
       " 462   47093006402  25066.0  POLYGON ((-83.90284 36.13021, -83.90148 36.132...   \n",
       " 1213  47093001400   7958.0  POLYGON ((-83.95859 35.97478, -83.94786 35.983...   \n",
       " 1214  47093001500  21070.0  POLYGON ((-83.95154 35.99145, -83.94929 35.993...   \n",
       " 1215  47093001900  16306.0  POLYGON ((-83.90062 35.99202, -83.88800 36.000...   \n",
       " 1217  47093003801  26112.0  POLYGON ((-84.01468 35.95085, -84.01197 35.952...   \n",
       " 1219  47093004610  26030.0  POLYGON ((-84.09454 35.92798, -84.09232 35.928...   \n",
       " 1220  47093005201  23315.0  POLYGON ((-83.88275 36.06840, -83.88127 36.072...   \n",
       " 1221  47093005402  22088.0  POLYGON ((-83.78688 35.99060, -83.78427 35.993...   \n",
       " 1224  47093006301  24865.0  POLYGON ((-84.02807 36.11862, -84.02799 36.119...   \n",
       " 1226  47093006502  22274.0  POLYGON ((-83.79219 36.05661, -83.78174 36.064...   \n",
       " 1227  47093006700  17598.0  POLYGON ((-83.92056 35.97302, -83.91824 35.976...   \n",
       " 1228  47093007000  12759.0  POLYGON ((-83.95507 35.97092, -83.95479 35.971...   \n",
       " 1450  47093000800  14303.0  POLYGON ((-83.91804 35.95746, -83.91461 35.958...   \n",
       " 1451  47093000902   4678.0  POLYGON ((-83.94706 35.95151, -83.94496 35.951...   \n",
       " 1452  47093002600  15697.0  POLYGON ((-83.97965 35.95257, -83.96794 35.958...   \n",
       " 1455  47093005502  18062.0  POLYGON ((-83.81647 35.90288, -83.81298 35.905...   \n",
       " 1457  47093006800  11228.0  POLYGON ((-83.91648 35.97014, -83.91089 35.973...   \n",
       " 1458  47093006900  10422.0  POLYGON ((-83.94678 35.96313, -83.94659 35.963...   \n",
       " \n",
       "                                         coords  \n",
       " 9     (-83.92517834651525, 35.953013500000054)  \n",
       " 383   (-83.88457916739321, 35.985963500000054)  \n",
       " 384    (-83.8727075897205, 35.978180000000066)  \n",
       " 385   (-83.88052537974366, 35.949992000000066)  \n",
       " 387    (-83.91761753047552, 35.93620450000006)  \n",
       " 388   (-83.96528695876185, 35.965872500000046)  \n",
       " 389    (-83.9619709633788, 35.986049000000065)  \n",
       " 390   (-83.93963740488141, 36.004646000000065)  \n",
       " 391    (-83.90595173624183, 36.01740900000007)  \n",
       " 392   (-83.87518722767547, 36.017389000000065)  \n",
       " 393    (-83.86233065908573, 36.00285800000003)  \n",
       " 398   (-83.99142698030457, 35.987538500000056)  \n",
       " 399     (-83.9717593681933, 35.99721150000005)  \n",
       " 400    (-83.96027453934329, 36.01322550000003)  \n",
       " 401    (-83.93845992395136, 36.01907150000005)  \n",
       " 403   (-83.89219088506223, 36.034481500000055)  \n",
       " 408     (-84.0771758643991, 35.93750250000005)  \n",
       " 413   (-84.03159740611059, 35.951211500000056)  \n",
       " 415    (-84.00058540165874, 36.00843750000004)  \n",
       " 417    (-83.94254716013754, 36.04097600000006)  \n",
       " 419   (-83.82896839452772, 36.039982000000066)  \n",
       " 420    (-83.76705892585314, 36.03328250000007)  \n",
       " 421    (-83.70497440333935, 36.02234850000005)  \n",
       " 423    (-83.83850807221432, 35.93028650000005)  \n",
       " 452    (-84.0479663417781, 36.075807000000054)  \n",
       " 453    (-84.04794657284216, 36.03446800000006)  \n",
       " 454   (-84.01914867889394, 36.037040500000046)  \n",
       " 456    (-83.91300603144441, 36.08010850000005)  \n",
       " 460     (-83.9234106092086, 36.14622150000005)  \n",
       " 461    (-83.87964151123973, 36.09726150000006)  \n",
       " 462    (-83.85655965227781, 36.13434700000005)  \n",
       " 1213  (-83.94535968229617, 35.978052500000075)  \n",
       " 1214   (-83.93858755692747, 35.98937500000005)  \n",
       " 1215  (-83.88927806076228, 35.994804000000045)  \n",
       " 1217   (-83.99864745083076, 35.95105650000005)  \n",
       " 1219   (-84.07660383634908, 35.92646650000003)  \n",
       " 1220   (-83.8356204403917, 36.077281500000055)  \n",
       " 1221  (-83.71457567967144, 35.971442000000025)  \n",
       " 1224   (-83.97949884452974, 36.12909600000006)  \n",
       " 1226    (-83.7352632354698, 36.08663500000006)  \n",
       " 1227   (-83.90730462510334, 35.98083450000004)  \n",
       " 1228  (-83.94236309832301, 35.969580000000036)  \n",
       " 1450  (-83.90393567684387, 35.954713500000025)  \n",
       " 1451   (-83.93525128822614, 35.94878300000005)  \n",
       " 1452  (-83.96033631346822, 35.953966500000035)  \n",
       " 1455  (-83.75972079915347, 35.927470000000056)  \n",
       " 1457   (-83.90328489810989, 35.96873250000007)  \n",
       " 1458  (-83.93534076130037, 35.960570500000046)  ,\n",
       " 'EP_MOBILE':              FIPS  EP_MOBILE  \\\n",
       " 9     47093000901        0.0   \n",
       " 380   47093001600        0.0   \n",
       " 381   47093001700        0.0   \n",
       " 382   47093001800        0.0   \n",
       " 383   47093002000        0.4   \n",
       " ...           ...        ...   \n",
       " 1455  47093005502       21.0   \n",
       " 1456  47093006600        0.5   \n",
       " 1457  47093006800        0.0   \n",
       " 1458  47093006900        0.0   \n",
       " 1490  47093000100        1.3   \n",
       " \n",
       "                                                geometry  \\\n",
       " 9     POLYGON ((-83.93293 35.95745, -83.93079 35.958...   \n",
       " 380   POLYGON ((-83.92659 36.00744, -83.92442 36.011...   \n",
       " 381   POLYGON ((-83.92237 35.99580, -83.91576 35.999...   \n",
       " 382   POLYGON ((-83.91070 36.00319, -83.90901 36.005...   \n",
       " 383   POLYGON ((-83.89374 35.98297, -83.89179 35.984...   \n",
       " ...                                                 ...   \n",
       " 1455  POLYGON ((-83.81647 35.90288, -83.81298 35.905...   \n",
       " 1456  POLYGON ((-83.93796 35.98145, -83.93602 35.982...   \n",
       " 1457  POLYGON ((-83.91648 35.97014, -83.91089 35.973...   \n",
       " 1458  POLYGON ((-83.94678 35.96313, -83.94659 35.963...   \n",
       " 1490  POLYGON ((-83.92939 35.96860, -83.92298 35.970...   \n",
       " \n",
       "                                         coords  \n",
       " 9     (-83.92517834651525, 35.953013500000054)  \n",
       " 380     (-83.9196857214391, 36.00716250000008)  \n",
       " 381   (-83.91145023685579, 35.993243000000064)  \n",
       " 382   (-83.89851591473008, 36.001472000000064)  \n",
       " 383   (-83.88457916739321, 35.985963500000054)  \n",
       " ...                                        ...  \n",
       " 1455  (-83.75972079915347, 35.927470000000056)  \n",
       " 1456  (-83.92805377982337, 35.981573000000054)  \n",
       " 1457   (-83.90328489810989, 35.96873250000007)  \n",
       " 1458  (-83.93534076130037, 35.960570500000046)  \n",
       " 1490   (-83.92000289288305, 35.96479350000004)  \n",
       " \n",
       " [112 rows x 4 columns],\n",
       " 'EP_POV':              FIPS  EP_POV                                           geometry  \\\n",
       " 394   47093003300     4.4  POLYGON ((-83.86206 35.99230, -83.85953 35.997...   \n",
       " 395   47093003400     8.7  POLYGON ((-83.91031 35.92825, -83.90691 35.929...   \n",
       " 404   47093004401     3.4  POLYGON ((-84.04746 35.90447, -84.04331 35.907...   \n",
       " 405   47093004606     4.0  POLYGON ((-84.12207 35.95264, -84.11331 35.957...   \n",
       " 406   47093004607     6.8  POLYGON ((-84.09410 35.96588, -84.08687 35.971...   \n",
       " 409   47093004611     5.6  POLYGON ((-84.13334 35.92523, -84.13156 35.927...   \n",
       " 410   47093004612     2.2  POLYGON ((-84.12806 35.93972, -84.12490 35.942...   \n",
       " 418   47093005100     2.6  POLYGON ((-83.92979 36.03967, -83.92897 36.042...   \n",
       " 419   47093005202     4.6  POLYGON ((-83.86871 36.03576, -83.86822 36.036...   \n",
       " 420   47093005301     2.9  POLYGON ((-83.83179 36.02062, -83.82625 36.023...   \n",
       " 423   47093005501     9.2  POLYGON ((-83.86668 35.92932, -83.86644 35.931...   \n",
       " 425   47093005603     3.8  POLYGON ((-83.91153 35.89048, -83.91104 35.894...   \n",
       " 427   47093005701     6.0  POLYGON ((-84.04131 35.87861, -84.04023 35.880...   \n",
       " 428   47093005704     8.3  POLYGON ((-84.09096 35.91820, -84.06940 35.922...   \n",
       " 429   47093005706     5.9  POLYGON ((-84.12175 35.91139, -84.09096 35.918...   \n",
       " 430   47093005707     3.2  POLYGON ((-84.13719 35.86286, -84.13401 35.865...   \n",
       " 431   47093005708     0.0  POLYGON ((-84.11800 35.86332, -84.11387 35.866...   \n",
       " 432   47093005709     2.8  POLYGON ((-84.09839 35.86423, -84.09480 35.865...   \n",
       " 433   47093005710     8.1  POLYGON ((-84.13555 35.85525, -84.13705 35.859...   \n",
       " 434   47093005711     2.5  POLYGON ((-84.09404 35.87703, -84.09128 35.879...   \n",
       " 435   47093005712     2.9  POLYGON ((-84.06876 35.89395, -84.06563 35.896...   \n",
       " 436   47093005803     2.8  POLYGON ((-84.17505 35.89884, -84.15425 35.904...   \n",
       " 438   47093005808     3.2  POLYGON ((-84.15101 35.88605, -84.14669 35.890...   \n",
       " 439   47093005809     5.8  POLYGON ((-84.21248 35.88902, -84.20791 35.890...   \n",
       " 440   47093005810     2.2  POLYGON ((-84.24075 35.87665, -84.23736 35.878...   \n",
       " 441   47093005811     3.7  POLYGON ((-84.20662 35.86862, -84.20532 35.868...   \n",
       " 442   47093005812     2.7  POLYGON ((-84.19535 35.83469, -84.19222 35.835...   \n",
       " 443   47093005813     1.9  POLYGON ((-84.18729 35.86780, -84.18621 35.868...   \n",
       " 445   47093005904     5.3  POLYGON ((-84.23737 35.88117, -84.23611 35.880...   \n",
       " 446   47093005906     7.4  POLYGON ((-84.27347 35.93928, -84.27155 35.942...   \n",
       " 447   47093005907     4.3  POLYGON ((-84.21953 35.96344, -84.21653 35.966...   \n",
       " 448   47093005908     7.2  POLYGON ((-84.19448 35.99397, -84.19229 35.995...   \n",
       " 449   47093006001     4.4  POLYGON ((-84.12640 35.95650, -84.12528 35.958...   \n",
       " 450   47093006002     8.3  POLYGON ((-84.11649 35.98662, -84.11103 35.988...   \n",
       " 451   47093006003     8.4  POLYGON ((-84.12411 35.99838, -84.11987 36.000...   \n",
       " 455   47093006202     5.5  POLYGON ((-83.95243 36.10205, -83.95041 36.104...   \n",
       " 456   47093006203     3.6  POLYGON ((-83.92784 36.07483, -83.92710 36.079...   \n",
       " 457   47093006205     7.3  POLYGON ((-83.99585 36.08515, -83.99366 36.087...   \n",
       " 458   47093006206     7.5  POLYGON ((-84.01854 36.08171, -84.01723 36.084...   \n",
       " 462   47093006402     8.6  POLYGON ((-83.90284 36.13021, -83.90148 36.132...   \n",
       " 463   47093006403     7.4  POLYGON ((-83.88088 36.07565, -83.87975 36.077...   \n",
       " 1225  47093006501     7.6  POLYGON ((-83.80459 36.13056, -83.80397 36.137...   \n",
       " \n",
       "                                         coords  \n",
       " 394    (-83.84179678231006, 36.00008900000003)  \n",
       " 395    (-83.87180898276392, 35.92610300000004)  \n",
       " 404   (-84.02489962570696, 35.909043000000054)  \n",
       " 405    (-84.09423986054907, 35.95515650000007)  \n",
       " 406    (-84.05675353476705, 35.97499000000005)  \n",
       " 409    (-84.11337329470459, 35.92615850000004)  \n",
       " 410     (-84.1109409463982, 35.94370550000005)  \n",
       " 418    (-83.89532547425412, 36.05855950000006)  \n",
       " 419   (-83.82896839452772, 36.039982000000066)  \n",
       " 420    (-83.76705892585314, 36.03328250000007)  \n",
       " 423    (-83.83850807221432, 35.93028650000005)  \n",
       " 425    (-83.86745351247937, 35.90267800000004)  \n",
       " 427   (-84.01893825536763, 35.883815500000026)  \n",
       " 428   (-84.06359260614002, 35.909668500000066)  \n",
       " 429     (-84.0961409260047, 35.90246300000007)  \n",
       " 430    (-84.09549611951823, 35.88354000000004)  \n",
       " 431   (-84.10789407548657, 35.863770500000044)  \n",
       " 432     (-84.0863751184639, 35.86082700000006)  \n",
       " 433    (-84.07170427877836, 35.85274650000005)  \n",
       " 434    (-84.07926282231082, 35.87535950000006)  \n",
       " 435    (-84.05204334079738, 35.88295650000006)  \n",
       " 436    (-84.15506794396536, 35.89632400000005)  \n",
       " 438    (-84.13614394221817, 35.87847400000004)  \n",
       " 439   (-84.18379919975717, 35.883819500000044)  \n",
       " 440    (-84.21032170182477, 35.87347250000005)  \n",
       " 441   (-84.19413643721596, 35.852051500000044)  \n",
       " 442    (-84.16296910544213, 35.82565600000004)  \n",
       " 443    (-84.16558151092141, 35.86661750000005)  \n",
       " 445   (-84.17706638850083, 35.905132500000036)  \n",
       " 446    (-84.22969321946118, 35.92141350000006)  \n",
       " 447   (-84.19543218088103, 35.962038000000064)  \n",
       " 448   (-84.14788265497194, 35.974748000000034)  \n",
       " 449   (-84.10394816785016, 35.970038500000044)  \n",
       " 450      (-84.058555994235, 35.99970900000005)  \n",
       " 451    (-84.08897572248384, 36.00845350000006)  \n",
       " 455    (-83.92515406737888, 36.10300000000004)  \n",
       " 456    (-83.91300603144441, 36.08010850000005)  \n",
       " 457    (-83.96482846208255, 36.09230050000005)  \n",
       " 458    (-83.98726650090578, 36.07484800000006)  \n",
       " 462    (-83.85655965227781, 36.13434700000005)  \n",
       " 463    (-83.84007574518952, 36.10652850000005)  \n",
       " 1225    (-83.7661841226262, 36.11237850000006)  }"
      ]
     },
     "execution_count": 36,
     "metadata": {},
     "output_type": "execute_result"
    }
   ],
   "source": [
    "data[7]"
   ]
  },
  {
   "cell_type": "code",
   "execution_count": 37,
   "metadata": {},
   "outputs": [],
   "source": [
    "# # loop through the data and create a list of the coordinates\n",
    "# coordinates = []\n",
    "# for i in range(len(data)):\n",
    "#     # print(type(data[i]))\n",
    "\n",
    "#     print(f\"COUNTY: {i}\")\n",
    "#     # add new lines\n",
    "#     print(\"\\n\")\n",
    "\n",
    "#     # loop through data[i] dictionary and get the coordinates\n",
    "#     for key, value in data[i].items():\n",
    "#         # coordinates.append(value)\n",
    "#         print(key)\n",
    "#         # print(value)\n",
    "\n",
    "#         # if the value is not empty, append it to the list\n",
    "#         if len(value)> 0:\n",
    "#             data_coordinates = np.array([np.array(coord) for coord in value['coords']])\n",
    "\n",
    "\n",
    "#             # creating the persistence diagram from rips class\n",
    "#             rips = Rips(maxdim=1, coeff=2)\n",
    "#             dgms = rips.fit_transform(data_coordinates)\n",
    "\n",
    "#             # seperate the diagrams H0 and H1\n",
    "#             diagrams_h0 = dgms[0]\n",
    "#             diagrams_h1 = dgms[1]\n",
    "\n",
    "#             print(diagrams_h1)\n",
    "\n",
    "#             # remove last data point in H0 diagram - it is infinity\n",
    "#             diagrams_h0_without_inf = diagrams_h0[0:-1]\n",
    "\n",
    "#             plt.figure(figsize=(12,6))\n",
    "#             if len(diagrams_h0) > 1:\n",
    "#                 plt.subplot(121)\n",
    "#                 rips.plot(diagrams_h0_without_inf, show=False)\n",
    "#                 plt.title(\"PD of $H_0$\")\n",
    "\n",
    "#             # plot this only diagrams_h1 is not empty\n",
    "#             if len(diagrams_h1) > 0:\n",
    "#                 plt.subplot(122)\n",
    "#                 rips.plot(diagrams_h1, show=False)\n",
    "#                 plt.title(\"PD of $H_1$\")\n",
    "\n",
    "#             plt.show()\n",
    "#             plt.close()\n",
    "\n",
    "#     # break\n"
   ]
  },
  {
   "cell_type": "code",
   "execution_count": 38,
   "metadata": {},
   "outputs": [
    {
     "data": {
      "text/plain": [
       "95"
      ]
     },
     "execution_count": 38,
     "metadata": {},
     "output_type": "execute_result"
    }
   ],
   "source": [
    "len(data)"
   ]
  },
  {
   "cell_type": "code",
   "execution_count": 39,
   "metadata": {},
   "outputs": [
    {
     "ename": "KeyError",
     "evalue": "1",
     "output_type": "error",
     "traceback": [
      "\u001b[0;31m---------------------------------------------------------------------------\u001b[0m",
      "\u001b[0;31mKeyError\u001b[0m                                  Traceback (most recent call last)",
      "Cell \u001b[0;32mIn[39], line 5\u001b[0m\n\u001b[1;32m      3\u001b[0m diagrams \u001b[38;5;241m=\u001b[39m []\n\u001b[1;32m      4\u001b[0m \u001b[38;5;28;01mfor\u001b[39;00m i \u001b[38;5;129;01min\u001b[39;00m \u001b[38;5;28mrange\u001b[39m(\u001b[38;5;28mlen\u001b[39m(data)):\n\u001b[0;32m----> 5\u001b[0m     diagrams\u001b[38;5;241m.\u001b[39mappend(data[i][\u001b[38;5;241m1\u001b[39m])\n",
      "\u001b[0;31mKeyError\u001b[0m: 1"
     ]
    }
   ],
   "source": [
    "# loop through the data and create a list of the persistence diagrams\n",
    "\n",
    "diagrams = []\n",
    "for i in range(len(data)):\n",
    "    diagrams.append(data[i][1])"
   ]
  },
  {
   "cell_type": "code",
   "execution_count": null,
   "metadata": {},
   "outputs": [],
   "source": []
  },
  {
   "cell_type": "code",
   "execution_count": null,
   "metadata": {},
   "outputs": [],
   "source": []
  },
  {
   "cell_type": "code",
   "execution_count": 40,
   "metadata": {},
   "outputs": [
    {
     "name": "stdout",
     "output_type": "stream",
     "text": [
      "Variable: EP_DISABL\n",
      "(80, 2)\n",
      "Variable: EP_NOHSDP\n",
      "(0,)\n",
      "Variable: EP_PCI\n",
      "(48, 2)\n",
      "Variable: EP_MOBILE\n",
      "(112, 2)\n",
      "Variable: EP_POV\n",
      "(42, 2)\n"
     ]
    }
   ],
   "source": [
    "data_coordinates_list = []\n",
    "for variable_name, selected_coordinates in data[7].items():\n",
    "    data_coordinates = np.array([np.array(coord) for coord in selected_coordinates['coords']])\n",
    "\n",
    "    print(f\"Variable: {variable_name}\")\n",
    "    print(data_coordinates.shape)\n",
    "\n",
    "    # append the data to the list\n",
    "    data_coordinates_list.append(data_coordinates)\n",
    "\n",
    "\n",
    "\n",
    "    "
   ]
  },
  {
   "cell_type": "code",
   "execution_count": 41,
   "metadata": {},
   "outputs": [],
   "source": [
    "data2 = data_coordinates_list[2]"
   ]
  },
  {
   "cell_type": "code",
   "execution_count": 42,
   "metadata": {},
   "outputs": [
    {
     "data": {
      "text/plain": [
       "array([[-83.92517835,  35.9530135 ],\n",
       "       [-83.88457917,  35.9859635 ],\n",
       "       [-83.87270759,  35.97818   ],\n",
       "       [-83.88052538,  35.949992  ],\n",
       "       [-83.91761753,  35.9362045 ],\n",
       "       [-83.96528696,  35.9658725 ],\n",
       "       [-83.96197096,  35.986049  ],\n",
       "       [-83.9396374 ,  36.004646  ],\n",
       "       [-83.90595174,  36.017409  ],\n",
       "       [-83.87518723,  36.017389  ],\n",
       "       [-83.86233066,  36.002858  ],\n",
       "       [-83.99142698,  35.9875385 ],\n",
       "       [-83.97175937,  35.9972115 ],\n",
       "       [-83.96027454,  36.0132255 ],\n",
       "       [-83.93845992,  36.0190715 ],\n",
       "       [-83.89219089,  36.0344815 ],\n",
       "       [-84.07717586,  35.9375025 ],\n",
       "       [-84.03159741,  35.9512115 ],\n",
       "       [-84.0005854 ,  36.0084375 ],\n",
       "       [-83.94254716,  36.040976  ],\n",
       "       [-83.82896839,  36.039982  ],\n",
       "       [-83.76705893,  36.0332825 ],\n",
       "       [-83.7049744 ,  36.0223485 ],\n",
       "       [-83.83850807,  35.9302865 ],\n",
       "       [-84.04796634,  36.075807  ],\n",
       "       [-84.04794657,  36.034468  ],\n",
       "       [-84.01914868,  36.0370405 ],\n",
       "       [-83.91300603,  36.0801085 ],\n",
       "       [-83.92341061,  36.1462215 ],\n",
       "       [-83.87964151,  36.0972615 ],\n",
       "       [-83.85655965,  36.134347  ],\n",
       "       [-83.94535968,  35.9780525 ],\n",
       "       [-83.93858756,  35.989375  ],\n",
       "       [-83.88927806,  35.994804  ],\n",
       "       [-83.99864745,  35.9510565 ],\n",
       "       [-84.07660384,  35.9264665 ],\n",
       "       [-83.83562044,  36.0772815 ],\n",
       "       [-83.71457568,  35.971442  ],\n",
       "       [-83.97949884,  36.129096  ],\n",
       "       [-83.73526324,  36.086635  ],\n",
       "       [-83.90730463,  35.9808345 ],\n",
       "       [-83.9423631 ,  35.96958   ],\n",
       "       [-83.90393568,  35.9547135 ],\n",
       "       [-83.93525129,  35.948783  ],\n",
       "       [-83.96033631,  35.9539665 ],\n",
       "       [-83.7597208 ,  35.92747   ],\n",
       "       [-83.9032849 ,  35.9687325 ],\n",
       "       [-83.93534076,  35.9605705 ]])"
      ]
     },
     "execution_count": 42,
     "metadata": {},
     "output_type": "execute_result"
    }
   ],
   "source": [
    "data2"
   ]
  },
  {
   "cell_type": "code",
   "execution_count": 43,
   "metadata": {},
   "outputs": [
    {
     "data": {
      "image/png": "[encoded data removed]",
      "text/plain": [
       "<Figure size 600x600 with 1 Axes>"
      ]
     },
     "metadata": {},
     "output_type": "display_data"
    }
   ],
   "source": [
    "plt.rcParams[\"figure.figsize\"] = (6, 6)\n",
    "plt.scatter(data2[:,0], data2[:,1], label=\"data\", s=8)\n",
    "plt.axis('equal')\n",
    "plt.legend()\n",
    "plt.show()"
   ]
  },
  {
   "cell_type": "code",
   "execution_count": 44,
   "metadata": {},
   "outputs": [
    {
     "name": "stdout",
     "output_type": "stream",
     "text": [
      "Rips(maxdim=1, thresh=inf, coeff=2, do_cocycles=False, n_perm = None, verbose=True)\n"
     ]
    }
   ],
   "source": [
    "# creating the persistence diagram from rips class\n",
    "rips = Rips(maxdim=1, coeff=2)\n",
    "dgms = rips.fit_transform(data2)"
   ]
  },
  {
   "cell_type": "code",
   "execution_count": 14,
   "metadata": {},
   "outputs": [
    {
     "ename": "NameError",
     "evalue": "name 'dgms' is not defined",
     "output_type": "error",
     "traceback": [
      "\u001b[0;31m---------------------------------------------------------------------------\u001b[0m",
      "\u001b[0;31mNameError\u001b[0m                                 Traceback (most recent call last)",
      "Cell \u001b[0;32mIn[14], line 2\u001b[0m\n\u001b[1;32m      1\u001b[0m \u001b[38;5;66;03m# seperate the diagrams H0 and H1\u001b[39;00m\n\u001b[0;32m----> 2\u001b[0m diagrams_h0 \u001b[38;5;241m=\u001b[39m dgms[\u001b[38;5;241m0\u001b[39m]\n\u001b[1;32m      3\u001b[0m diagrams_h1 \u001b[38;5;241m=\u001b[39m dgms[\u001b[38;5;241m1\u001b[39m]\n",
      "\u001b[0;31mNameError\u001b[0m: name 'dgms' is not defined"
     ]
    }
   ],
   "source": [
    "# seperate the diagrams H0 and H1\n",
    "diagrams_h0 = dgms[0]\n",
    "diagrams_h1 = dgms[1]"
   ]
  },
  {
   "cell_type": "code",
   "execution_count": 15,
   "metadata": {},
   "outputs": [
    {
     "ename": "NameError",
     "evalue": "name 'diagrams_h0' is not defined",
     "output_type": "error",
     "traceback": [
      "\u001b[0;31m---------------------------------------------------------------------------\u001b[0m",
      "\u001b[0;31mNameError\u001b[0m                                 Traceback (most recent call last)",
      "Cell \u001b[0;32mIn[15], line 1\u001b[0m\n\u001b[0;32m----> 1\u001b[0m \u001b[38;5;28mlen\u001b[39m(diagrams_h0)\n",
      "\u001b[0;31mNameError\u001b[0m: name 'diagrams_h0' is not defined"
     ]
    }
   ],
   "source": [
    "len(diagrams_h0)"
   ]
  },
  {
   "cell_type": "code",
   "execution_count": 16,
   "metadata": {},
   "outputs": [
    {
     "ename": "NameError",
     "evalue": "name 'diagrams_h0' is not defined",
     "output_type": "error",
     "traceback": [
      "\u001b[0;31m---------------------------------------------------------------------------\u001b[0m",
      "\u001b[0;31mNameError\u001b[0m                                 Traceback (most recent call last)",
      "Cell \u001b[0;32mIn[16], line 1\u001b[0m\n\u001b[0;32m----> 1\u001b[0m diagrams_h0\n",
      "\u001b[0;31mNameError\u001b[0m: name 'diagrams_h0' is not defined"
     ]
    }
   ],
   "source": [
    "diagrams_h0"
   ]
  },
  {
   "cell_type": "code",
   "execution_count": 17,
   "metadata": {},
   "outputs": [
    {
     "ename": "NameError",
     "evalue": "name 'diagrams_h1' is not defined",
     "output_type": "error",
     "traceback": [
      "\u001b[0;31m---------------------------------------------------------------------------\u001b[0m",
      "\u001b[0;31mNameError\u001b[0m                                 Traceback (most recent call last)",
      "Cell \u001b[0;32mIn[17], line 1\u001b[0m\n\u001b[0;32m----> 1\u001b[0m \u001b[38;5;28mlen\u001b[39m(diagrams_h1)\u001b[38;5;241m>\u001b[39m\u001b[38;5;241m0\u001b[39m\n",
      "\u001b[0;31mNameError\u001b[0m: name 'diagrams_h1' is not defined"
     ]
    }
   ],
   "source": [
    "len(diagrams_h1)>0"
   ]
  },
  {
   "cell_type": "code",
   "execution_count": 18,
   "metadata": {},
   "outputs": [
    {
     "ename": "NameError",
     "evalue": "name 'diagrams_h0' is not defined",
     "output_type": "error",
     "traceback": [
      "\u001b[0;31m---------------------------------------------------------------------------\u001b[0m",
      "\u001b[0;31mNameError\u001b[0m                                 Traceback (most recent call last)",
      "Cell \u001b[0;32mIn[18], line 2\u001b[0m\n\u001b[1;32m      1\u001b[0m \u001b[38;5;66;03m# remove last data point in H0 diagram - it is infinity\u001b[39;00m\n\u001b[0;32m----> 2\u001b[0m diagrams_h0_without_inf \u001b[38;5;241m=\u001b[39m diagrams_h0[\u001b[38;5;241m0\u001b[39m:\u001b[38;5;241m-\u001b[39m\u001b[38;5;241m1\u001b[39m]\n",
      "\u001b[0;31mNameError\u001b[0m: name 'diagrams_h0' is not defined"
     ]
    }
   ],
   "source": [
    "# remove last data point in H0 diagram - it is infinity\n",
    "diagrams_h0_without_inf = diagrams_h0[0:-1]"
   ]
  },
  {
   "cell_type": "code",
   "execution_count": 19,
   "metadata": {},
   "outputs": [
    {
     "ename": "NameError",
     "evalue": "name 'diagrams_h0_without_inf' is not defined",
     "output_type": "error",
     "traceback": [
      "\u001b[0;31m---------------------------------------------------------------------------\u001b[0m",
      "\u001b[0;31mNameError\u001b[0m                                 Traceback (most recent call last)",
      "Cell \u001b[0;32mIn[19], line 4\u001b[0m\n\u001b[1;32m      1\u001b[0m plt\u001b[38;5;241m.\u001b[39mfigure(figsize\u001b[38;5;241m=\u001b[39m(\u001b[38;5;241m12\u001b[39m,\u001b[38;5;241m6\u001b[39m))\n\u001b[1;32m      2\u001b[0m plt\u001b[38;5;241m.\u001b[39msubplot(\u001b[38;5;241m121\u001b[39m)\n\u001b[0;32m----> 4\u001b[0m rips\u001b[38;5;241m.\u001b[39mplot(diagrams_h0_without_inf, show\u001b[38;5;241m=\u001b[39m\u001b[38;5;28;01mFalse\u001b[39;00m)\n\u001b[1;32m      5\u001b[0m plt\u001b[38;5;241m.\u001b[39mtitle(\u001b[38;5;124m\"\u001b[39m\u001b[38;5;124mPD of $H_0$\u001b[39m\u001b[38;5;124m\"\u001b[39m)\n\u001b[1;32m      7\u001b[0m plt\u001b[38;5;241m.\u001b[39msubplot(\u001b[38;5;241m122\u001b[39m)\n",
      "\u001b[0;31mNameError\u001b[0m: name 'diagrams_h0_without_inf' is not defined"
     ]
    },
    {
     "data": {
      "image/png": "[encoded data removed]",
      "text/plain": [
       "<Figure size 1200x600 with 1 Axes>"
      ]
     },
     "metadata": {},
     "output_type": "display_data"
    }
   ],
   "source": [
    "plt.figure(figsize=(12,6))\n",
    "plt.subplot(121)\n",
    "\n",
    "rips.plot(diagrams_h0_without_inf, show=False)\n",
    "plt.title(\"PD of $H_0$\")\n",
    "\n",
    "plt.subplot(122)\n",
    "rips.plot(diagrams_h1, show=False)\n",
    "plt.title(\"PD of $H_1$\")\n",
    "\n",
    "plt.show()"
   ]
  },
  {
   "cell_type": "code",
   "execution_count": 20,
   "metadata": {},
   "outputs": [
    {
     "ename": "NameError",
     "evalue": "name 'diagrams_h1' is not defined",
     "output_type": "error",
     "traceback": [
      "\u001b[0;31m---------------------------------------------------------------------------\u001b[0m",
      "\u001b[0;31mNameError\u001b[0m                                 Traceback (most recent call last)",
      "Cell \u001b[0;32mIn[20], line 2\u001b[0m\n\u001b[1;32m      1\u001b[0m \u001b[38;5;66;03m# lifetime is y coordinates diagrams_h0_without_inf\u001b[39;00m\n\u001b[0;32m----> 2\u001b[0m lifetime \u001b[38;5;241m=\u001b[39m diagrams_h1[:,\u001b[38;5;241m1\u001b[39m]\n",
      "\u001b[0;31mNameError\u001b[0m: name 'diagrams_h1' is not defined"
     ]
    }
   ],
   "source": [
    "# lifetime is y coordinates diagrams_h0_without_inf\n",
    "lifetime = diagrams_h1[:,1]"
   ]
  },
  {
   "cell_type": "code",
   "execution_count": 21,
   "metadata": {},
   "outputs": [],
   "source": [
    "# Define custom weighting function that uses lifetime as weight \n",
    "# default weight function is 'persistance'\n",
    "def weight_by_lifetime(birth, persistence, lifetime, **kwargs):\n",
    "    # Use lifetime as weight\n",
    "    #return lifetime\n",
    "    return np.exp(lifetime)"
   ]
  },
  {
   "cell_type": "code",
   "execution_count": 22,
   "metadata": {},
   "outputs": [
    {
     "ename": "NameError",
     "evalue": "name 'diagrams_h1' is not defined",
     "output_type": "error",
     "traceback": [
      "\u001b[0;31m---------------------------------------------------------------------------\u001b[0m",
      "\u001b[0;31mNameError\u001b[0m                                 Traceback (most recent call last)",
      "Cell \u001b[0;32mIn[22], line 5\u001b[0m\n\u001b[1;32m      1\u001b[0m \u001b[38;5;66;03m# For the default bivariate normal Gaussian kernel, the parameter controlling the spread (sigma) may be specified \u001b[39;00m\n\u001b[1;32m      2\u001b[0m \u001b[38;5;66;03m# either by a float or a 2x2 covariance matrix\u001b[39;00m\n\u001b[1;32m      3\u001b[0m \u001b[38;5;66;03m# pimgr = PersistenceImager(pixel_size=0.1, weight=weight_by_lifetime, weight_params={'lifetime': lifetime})\u001b[39;00m\n\u001b[1;32m      4\u001b[0m pimgr1 \u001b[38;5;241m=\u001b[39m PersistenceImager(pixel_size\u001b[38;5;241m=\u001b[39m\u001b[38;5;241m0.1\u001b[39m)\n\u001b[0;32m----> 5\u001b[0m pimgr1\u001b[38;5;241m.\u001b[39mfit(diagrams_h1)\n",
      "\u001b[0;31mNameError\u001b[0m: name 'diagrams_h1' is not defined"
     ]
    }
   ],
   "source": [
    "# For the default bivariate normal Gaussian kernel, the parameter controlling the spread (sigma) may be specified \n",
    "# either by a float or a 2x2 covariance matrix\n",
    "# pimgr = PersistenceImager(pixel_size=0.1, weight=weight_by_lifetime, weight_params={'lifetime': lifetime})\n",
    "pimgr1 = PersistenceImager(pixel_size=0.1)\n",
    "pimgr1.fit(diagrams_h1)"
   ]
  },
  {
   "cell_type": "code",
   "execution_count": 23,
   "metadata": {},
   "outputs": [
    {
     "ename": "NameError",
     "evalue": "name 'diagrams_h1' is not defined",
     "output_type": "error",
     "traceback": [
      "\u001b[0;31m---------------------------------------------------------------------------\u001b[0m",
      "\u001b[0;31mNameError\u001b[0m                                 Traceback (most recent call last)",
      "Cell \u001b[0;32mIn[23], line 8\u001b[0m\n\u001b[1;32m      6\u001b[0m fig, axs \u001b[38;5;241m=\u001b[39m plt\u001b[38;5;241m.\u001b[39msubplots(\u001b[38;5;241m1\u001b[39m, \u001b[38;5;241m2\u001b[39m, figsize\u001b[38;5;241m=\u001b[39m(\u001b[38;5;241m20\u001b[39m,\u001b[38;5;241m5\u001b[39m))\n\u001b[1;32m      7\u001b[0m pimgr1\u001b[38;5;241m.\u001b[39mkernel_params \u001b[38;5;241m=\u001b[39m {\u001b[38;5;124m'\u001b[39m\u001b[38;5;124msigma\u001b[39m\u001b[38;5;124m'\u001b[39m: \u001b[38;5;241m.1\u001b[39m}\n\u001b[0;32m----> 8\u001b[0m pimgr1\u001b[38;5;241m.\u001b[39mplot_diagram(diagrams_h1, skew\u001b[38;5;241m=\u001b[39m\u001b[38;5;28;01mTrue\u001b[39;00m, ax\u001b[38;5;241m=\u001b[39maxs[\u001b[38;5;241m0\u001b[39m])\n\u001b[1;32m      9\u001b[0m axs[\u001b[38;5;241m0\u001b[39m]\u001b[38;5;241m.\u001b[39mset_title(\u001b[38;5;124m'\u001b[39m\u001b[38;5;124mDiagram\u001b[39m\u001b[38;5;124m'\u001b[39m, fontsize\u001b[38;5;241m=\u001b[39m\u001b[38;5;241m16\u001b[39m)\n\u001b[1;32m     11\u001b[0m pimgr1\u001b[38;5;241m.\u001b[39mkernel_params \u001b[38;5;241m=\u001b[39m {\u001b[38;5;124m'\u001b[39m\u001b[38;5;124msigma\u001b[39m\u001b[38;5;124m'\u001b[39m: \u001b[38;5;241m0.000005\u001b[39m}\n",
      "\u001b[0;31mNameError\u001b[0m: name 'diagrams_h1' is not defined"
     ]
    },
    {
     "data": {
      "image/png": "[encoded data removed]",
      "text/plain": [
       "<Figure size 2000x500 with 2 Axes>"
      ]
     },
     "metadata": {},
     "output_type": "display_data"
    }
   ],
   "source": [
    "pimgr1.pixel_size = 0.005\n",
    "pimgr1.birth_range = (-0.02, 0.1)\n",
    "pimgr1.pers_range = (-0.02, 0.1)\n",
    "\n",
    "\n",
    "fig, axs = plt.subplots(1, 2, figsize=(20,5))\n",
    "pimgr1.kernel_params = {'sigma': .1}\n",
    "pimgr1.plot_diagram(diagrams_h1, skew=True, ax=axs[0])\n",
    "axs[0].set_title('Diagram', fontsize=16)\n",
    "\n",
    "pimgr1.kernel_params = {'sigma': 0.000005}\n",
    "pimgr1.plot_image(pimgr1.transform(diagrams_h1), ax=axs[1])\n",
    "axs[1].set_title('Kernel Spread: 0.1', fontsize=16)\n",
    "\n",
    "\n",
    "plt.tight_layout()\n",
    "plt.show()"
   ]
  },
  {
   "cell_type": "code",
   "execution_count": 24,
   "metadata": {},
   "outputs": [
    {
     "ename": "NameError",
     "evalue": "name 'diagrams_h0_without_inf' is not defined",
     "output_type": "error",
     "traceback": [
      "\u001b[0;31m---------------------------------------------------------------------------\u001b[0m",
      "\u001b[0;31mNameError\u001b[0m                                 Traceback (most recent call last)",
      "Cell \u001b[0;32mIn[24], line 2\u001b[0m\n\u001b[1;32m      1\u001b[0m pimgr \u001b[38;5;241m=\u001b[39m PersistenceImager(pixel_size\u001b[38;5;241m=\u001b[39m\u001b[38;5;241m0.1\u001b[39m)\n\u001b[0;32m----> 2\u001b[0m pimgr\u001b[38;5;241m.\u001b[39mfit(diagrams_h0_without_inf)\n\u001b[1;32m      4\u001b[0m pimgr\u001b[38;5;241m.\u001b[39mpixel_size \u001b[38;5;241m=\u001b[39m \u001b[38;5;241m0.005\u001b[39m\n\u001b[1;32m      5\u001b[0m pimgr\u001b[38;5;241m.\u001b[39mbirth_range \u001b[38;5;241m=\u001b[39m (\u001b[38;5;241m-\u001b[39m\u001b[38;5;241m0.02\u001b[39m, \u001b[38;5;241m0.1\u001b[39m)\n",
      "\u001b[0;31mNameError\u001b[0m: name 'diagrams_h0_without_inf' is not defined"
     ]
    }
   ],
   "source": [
    "pimgr = PersistenceImager(pixel_size=0.1)\n",
    "pimgr.fit(diagrams_h0_without_inf)\n",
    "\n",
    "pimgr.pixel_size = 0.005\n",
    "pimgr.birth_range = (-0.02, 0.1)\n",
    "pimgr.pers_range = (-0.02, 0.1)\n",
    "\n",
    "\n",
    "# pixel size 1 and sigma 0.1\n",
    "fig, axs = plt.subplots(1, 2, figsize=(20,5))\n",
    "pimgr.kernel_params = {'sigma': .1}\n",
    "pimgr.plot_diagram(diagrams_h0_without_inf, skew=True, ax=axs[0])\n",
    "axs[0].set_title('Diagram', fontsize=16)\n",
    "\n",
    "pimgr.kernel_params = {'sigma': 0.000005}\n",
    "pimgr.plot_image(pimgr.transform(diagrams_h0_without_inf), ax=axs[1])\n",
    "axs[1].set_title('Kernel Spread: 0.1', fontsize=16)\n",
    "\n",
    "\n",
    "plt.tight_layout()\n",
    "plt.show()"
   ]
  },
  {
   "cell_type": "code",
   "execution_count": 25,
   "metadata": {},
   "outputs": [
    {
     "ename": "NameError",
     "evalue": "name 'diagrams_h0_without_inf' is not defined",
     "output_type": "error",
     "traceback": [
      "\u001b[0;31m---------------------------------------------------------------------------\u001b[0m",
      "\u001b[0;31mNameError\u001b[0m                                 Traceback (most recent call last)",
      "Cell \u001b[0;32mIn[25], line 1\u001b[0m\n\u001b[0;32m----> 1\u001b[0m A \u001b[38;5;241m=\u001b[39m pimgr\u001b[38;5;241m.\u001b[39mtransform(diagrams_h0_without_inf)\n\u001b[1;32m      2\u001b[0m B \u001b[38;5;241m=\u001b[39m pimgr1\u001b[38;5;241m.\u001b[39mtransform(diagrams_h1)\n",
      "\u001b[0;31mNameError\u001b[0m: name 'diagrams_h0_without_inf' is not defined"
     ]
    }
   ],
   "source": [
    "A = pimgr.transform(diagrams_h0_without_inf)\n",
    "B = pimgr1.transform(diagrams_h1)"
   ]
  },
  {
   "cell_type": "code",
   "execution_count": 26,
   "metadata": {},
   "outputs": [
    {
     "ename": "NameError",
     "evalue": "name 'A' is not defined",
     "output_type": "error",
     "traceback": [
      "\u001b[0;31m---------------------------------------------------------------------------\u001b[0m",
      "\u001b[0;31mNameError\u001b[0m                                 Traceback (most recent call last)",
      "Cell \u001b[0;32mIn[26], line 1\u001b[0m\n\u001b[0;32m----> 1\u001b[0m A\u001b[38;5;241m.\u001b[39mshape\n",
      "\u001b[0;31mNameError\u001b[0m: name 'A' is not defined"
     ]
    }
   ],
   "source": [
    "A.shape"
   ]
  },
  {
   "cell_type": "code",
   "execution_count": 27,
   "metadata": {},
   "outputs": [
    {
     "ename": "NameError",
     "evalue": "name 'B' is not defined",
     "output_type": "error",
     "traceback": [
      "\u001b[0;31m---------------------------------------------------------------------------\u001b[0m",
      "\u001b[0;31mNameError\u001b[0m                                 Traceback (most recent call last)",
      "Cell \u001b[0;32mIn[27], line 1\u001b[0m\n\u001b[0;32m----> 1\u001b[0m B\u001b[38;5;241m.\u001b[39mshape\n",
      "\u001b[0;31mNameError\u001b[0m: name 'B' is not defined"
     ]
    }
   ],
   "source": [
    "B.shape"
   ]
  },
  {
   "cell_type": "code",
   "execution_count": 28,
   "metadata": {},
   "outputs": [
    {
     "ename": "NameError",
     "evalue": "name 'A' is not defined",
     "output_type": "error",
     "traceback": [
      "\u001b[0;31m---------------------------------------------------------------------------\u001b[0m",
      "\u001b[0;31mNameError\u001b[0m                                 Traceback (most recent call last)",
      "Cell \u001b[0;32mIn[28], line 1\u001b[0m\n\u001b[0;32m----> 1\u001b[0m A[\u001b[38;5;241m23\u001b[39m]\u001b[38;5;241m.\u001b[39mshape\n",
      "\u001b[0;31mNameError\u001b[0m: name 'A' is not defined"
     ]
    }
   ],
   "source": [
    "A[23].shape"
   ]
  },
  {
   "cell_type": "code",
   "execution_count": 29,
   "metadata": {},
   "outputs": [
    {
     "ename": "NameError",
     "evalue": "name 'A' is not defined",
     "output_type": "error",
     "traceback": [
      "\u001b[0;31m---------------------------------------------------------------------------\u001b[0m",
      "\u001b[0;31mNameError\u001b[0m                                 Traceback (most recent call last)",
      "Cell \u001b[0;32mIn[29], line 7\u001b[0m\n\u001b[1;32m      1\u001b[0m \u001b[38;5;66;03m# add A and B two images by making the shape of the final image 24,24\u001b[39;00m\n\u001b[1;32m      2\u001b[0m \u001b[38;5;66;03m# A is 24, 24\u001b[39;00m\n\u001b[1;32m      3\u001b[0m \u001b[38;5;66;03m# B is 24, 24\u001b[39;00m\n\u001b[1;32m      4\u001b[0m \u001b[38;5;66;03m# add A and B to get C\u001b[39;00m\n\u001b[1;32m      5\u001b[0m \u001b[38;5;66;03m# C is 24, 24\u001b[39;00m\n\u001b[0;32m----> 7\u001b[0m C \u001b[38;5;241m=\u001b[39m A \u001b[38;5;241m+\u001b[39m\u001b[38;5;241m8\u001b[39m\u001b[38;5;241m*\u001b[39mB\n",
      "\u001b[0;31mNameError\u001b[0m: name 'A' is not defined"
     ]
    }
   ],
   "source": [
    "# add A and B two images by making the shape of the final image 24,24\n",
    "# A is 24, 24\n",
    "# B is 24, 24\n",
    "# add A and B to get C\n",
    "# C is 24, 24\n",
    "\n",
    "C = A +8*B\n"
   ]
  },
  {
   "cell_type": "code",
   "execution_count": 30,
   "metadata": {},
   "outputs": [
    {
     "ename": "NameError",
     "evalue": "name 'C' is not defined",
     "output_type": "error",
     "traceback": [
      "\u001b[0;31m---------------------------------------------------------------------------\u001b[0m",
      "\u001b[0;31mNameError\u001b[0m                                 Traceback (most recent call last)",
      "Cell \u001b[0;32mIn[30], line 1\u001b[0m\n\u001b[0;32m----> 1\u001b[0m C\u001b[38;5;241m.\u001b[39mshape\n",
      "\u001b[0;31mNameError\u001b[0m: name 'C' is not defined"
     ]
    }
   ],
   "source": [
    "C.shape"
   ]
  },
  {
   "cell_type": "code",
   "execution_count": 31,
   "metadata": {},
   "outputs": [
    {
     "ename": "NameError",
     "evalue": "name 'diagrams_h0_without_inf' is not defined",
     "output_type": "error",
     "traceback": [
      "\u001b[0;31m---------------------------------------------------------------------------\u001b[0m",
      "\u001b[0;31mNameError\u001b[0m                                 Traceback (most recent call last)",
      "Cell \u001b[0;32mIn[31], line 2\u001b[0m\n\u001b[1;32m      1\u001b[0m pimgr \u001b[38;5;241m=\u001b[39m PersistenceImager(pixel_size\u001b[38;5;241m=\u001b[39m\u001b[38;5;241m0.1\u001b[39m)\n\u001b[0;32m----> 2\u001b[0m pimgr\u001b[38;5;241m.\u001b[39mfit(diagrams_h0_without_inf)\n\u001b[1;32m      4\u001b[0m pimgr\u001b[38;5;241m.\u001b[39mpixel_size \u001b[38;5;241m=\u001b[39m \u001b[38;5;241m0.005\u001b[39m\n\u001b[1;32m      5\u001b[0m pimgr\u001b[38;5;241m.\u001b[39mbirth_range \u001b[38;5;241m=\u001b[39m (\u001b[38;5;241m-\u001b[39m\u001b[38;5;241m0.02\u001b[39m, \u001b[38;5;241m0.1\u001b[39m)\n",
      "\u001b[0;31mNameError\u001b[0m: name 'diagrams_h0_without_inf' is not defined"
     ]
    }
   ],
   "source": [
    "pimgr = PersistenceImager(pixel_size=0.1)\n",
    "pimgr.fit(diagrams_h0_without_inf)\n",
    "\n",
    "pimgr.pixel_size = 0.005\n",
    "pimgr.birth_range = (-0.02, 0.1)\n",
    "pimgr.pers_range = (-0.02, 0.1)\n",
    "\n",
    "\n",
    "# pixel size 1 and sigma 0.1\n",
    "fig, axs = plt.subplots(1, 2, figsize=(20,5))\n",
    "pimgr.kernel_params = {'sigma': .1}\n",
    "pimgr.plot_diagram(diagrams_h0_without_inf, skew=True, ax=axs[0])\n",
    "axs[0].set_title('Diagram', fontsize=16)\n",
    "\n",
    "pimgr.kernel_params = {'sigma': 0.000005}\n",
    "pimgr.plot_image(C, ax=axs[1])\n",
    "axs[1].set_title('Kernel Spread: 0.1', fontsize=16)\n",
    "\n",
    "\n",
    "plt.tight_layout()\n",
    "plt.show()"
   ]
  },
  {
   "cell_type": "code",
   "execution_count": null,
   "metadata": {},
   "outputs": [],
   "source": []
  },
  {
   "cell_type": "code",
   "execution_count": null,
   "metadata": {},
   "outputs": [],
   "source": []
  }
 ],
 "metadata": {
  "kernelspec": {
   "display_name": "TDA",
   "language": "python",
   "name": "python3"
  },
  "language_info": {
   "codemirror_mode": {
    "name": "ipython",
    "version": 3
   },
   "file_extension": ".py",
   "mimetype": "text/x-python",
   "name": "python",
   "nbconvert_exporter": "python",
   "pygments_lexer": "ipython3",
   "version": "3.11.4"
  }
 },
 "nbformat": 4,
 "nbformat_minor": 2
}
