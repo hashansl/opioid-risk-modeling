{
 "cells": [
  {
   "cell_type": "markdown",
   "metadata": {},
   "source": [
    "### HepVu data analysis"
   ]
  },
  {
   "cell_type": "code",
   "execution_count": 1,
   "metadata": {},
   "outputs": [],
   "source": [
    "import pandas as pd\n",
    "import numpy as np\n",
    "import geopandas as gpd"
   ]
  },
  {
   "cell_type": "code",
   "execution_count": 2,
   "metadata": {},
   "outputs": [],
   "source": [
    "#import xlsx file as a dataframe\n",
    "HepVu_df = pd.read_excel('../data/HepVu_County_Opioid_Indicators_05DEC22.xlsx')"
   ]
  },
  {
   "cell_type": "code",
   "execution_count": 3,
   "metadata": {},
   "outputs": [
    {
     "data": {
      "text/html": [
       "<div>\n",
       "<style scoped>\n",
       "    .dataframe tbody tr th:only-of-type {\n",
       "        vertical-align: middle;\n",
       "    }\n",
       "\n",
       "    .dataframe tbody tr th {\n",
       "        vertical-align: top;\n",
       "    }\n",
       "\n",
       "    .dataframe thead th {\n",
       "        text-align: right;\n",
       "    }\n",
       "</style>\n",
       "<table border=\"1\" class=\"dataframe\">\n",
       "  <thead>\n",
       "    <tr style=\"text-align: right;\">\n",
       "      <th></th>\n",
       "      <th>GEO ID</th>\n",
       "      <th>State Abbreviation</th>\n",
       "      <th>County Name</th>\n",
       "      <th>Opioid Prescription Rate 2020</th>\n",
       "      <th>Narcotic Overdose Mortality Rate 2014</th>\n",
       "      <th>Narcotic Overdose Mortality Rate 2015</th>\n",
       "      <th>Narcotic Overdose Mortality Rate 2016</th>\n",
       "      <th>Narcotic Overdose Mortality Rate 2017</th>\n",
       "      <th>Narcotic Overdose Mortality Rate 2018</th>\n",
       "      <th>Narcotic Overdose Mortality Rate 2019</th>\n",
       "      <th>Narcotic Overdose Mortality Rate 2020</th>\n",
       "    </tr>\n",
       "  </thead>\n",
       "  <tbody>\n",
       "    <tr>\n",
       "      <th>0</th>\n",
       "      <td>1001</td>\n",
       "      <td>AL</td>\n",
       "      <td>Autauga County</td>\n",
       "      <td>98.3</td>\n",
       "      <td>8.2</td>\n",
       "      <td>8.8</td>\n",
       "      <td>10.7</td>\n",
       "      <td>9.8</td>\n",
       "      <td>10.9</td>\n",
       "      <td>9.2</td>\n",
       "      <td>11.6</td>\n",
       "    </tr>\n",
       "    <tr>\n",
       "      <th>1</th>\n",
       "      <td>1003</td>\n",
       "      <td>AL</td>\n",
       "      <td>Baldwin County</td>\n",
       "      <td>65.0</td>\n",
       "      <td>18.0</td>\n",
       "      <td>20.0</td>\n",
       "      <td>16.6</td>\n",
       "      <td>15.1</td>\n",
       "      <td>14.9</td>\n",
       "      <td>14.5</td>\n",
       "      <td>27.4</td>\n",
       "    </tr>\n",
       "    <tr>\n",
       "      <th>2</th>\n",
       "      <td>1005</td>\n",
       "      <td>AL</td>\n",
       "      <td>Barbour County</td>\n",
       "      <td>22.8</td>\n",
       "      <td>4.4</td>\n",
       "      <td>4.5</td>\n",
       "      <td>5.7</td>\n",
       "      <td>5.8</td>\n",
       "      <td>5.2</td>\n",
       "      <td>5.7</td>\n",
       "      <td>7.6</td>\n",
       "    </tr>\n",
       "    <tr>\n",
       "      <th>3</th>\n",
       "      <td>1007</td>\n",
       "      <td>AL</td>\n",
       "      <td>Bibb County</td>\n",
       "      <td>24.8</td>\n",
       "      <td>17.2</td>\n",
       "      <td>16.6</td>\n",
       "      <td>22.6</td>\n",
       "      <td>21.7</td>\n",
       "      <td>23.1</td>\n",
       "      <td>19.4</td>\n",
       "      <td>27.3</td>\n",
       "    </tr>\n",
       "    <tr>\n",
       "      <th>4</th>\n",
       "      <td>1009</td>\n",
       "      <td>AL</td>\n",
       "      <td>Blount County</td>\n",
       "      <td>22.8</td>\n",
       "      <td>18.6</td>\n",
       "      <td>18.9</td>\n",
       "      <td>22.7</td>\n",
       "      <td>27.0</td>\n",
       "      <td>19.9</td>\n",
       "      <td>20.3</td>\n",
       "      <td>24.2</td>\n",
       "    </tr>\n",
       "  </tbody>\n",
       "</table>\n",
       "</div>"
      ],
      "text/plain": [
       "   GEO ID State Abbreviation     County Name  Opioid Prescription Rate 2020  \\\n",
       "0    1001                 AL  Autauga County                           98.3   \n",
       "1    1003                 AL  Baldwin County                           65.0   \n",
       "2    1005                 AL  Barbour County                           22.8   \n",
       "3    1007                 AL     Bibb County                           24.8   \n",
       "4    1009                 AL   Blount County                           22.8   \n",
       "\n",
       "   Narcotic Overdose Mortality Rate 2014  \\\n",
       "0                                    8.2   \n",
       "1                                   18.0   \n",
       "2                                    4.4   \n",
       "3                                   17.2   \n",
       "4                                   18.6   \n",
       "\n",
       "   Narcotic Overdose Mortality Rate 2015  \\\n",
       "0                                    8.8   \n",
       "1                                   20.0   \n",
       "2                                    4.5   \n",
       "3                                   16.6   \n",
       "4                                   18.9   \n",
       "\n",
       "   Narcotic Overdose Mortality Rate 2016  \\\n",
       "0                                   10.7   \n",
       "1                                   16.6   \n",
       "2                                    5.7   \n",
       "3                                   22.6   \n",
       "4                                   22.7   \n",
       "\n",
       "   Narcotic Overdose Mortality Rate 2017  \\\n",
       "0                                    9.8   \n",
       "1                                   15.1   \n",
       "2                                    5.8   \n",
       "3                                   21.7   \n",
       "4                                   27.0   \n",
       "\n",
       "   Narcotic Overdose Mortality Rate 2018  \\\n",
       "0                                   10.9   \n",
       "1                                   14.9   \n",
       "2                                    5.2   \n",
       "3                                   23.1   \n",
       "4                                   19.9   \n",
       "\n",
       "   Narcotic Overdose Mortality Rate 2019  \\\n",
       "0                                    9.2   \n",
       "1                                   14.5   \n",
       "2                                    5.7   \n",
       "3                                   19.4   \n",
       "4                                   20.3   \n",
       "\n",
       "   Narcotic Overdose Mortality Rate 2020  \n",
       "0                                   11.6  \n",
       "1                                   27.4  \n",
       "2                                    7.6  \n",
       "3                                   27.3  \n",
       "4                                   24.2  "
      ]
     },
     "execution_count": 3,
     "metadata": {},
     "output_type": "execute_result"
    }
   ],
   "source": [
    "HepVu_df.head()"
   ]
  },
  {
   "cell_type": "code",
   "execution_count": 13,
   "metadata": {},
   "outputs": [
    {
     "data": {
      "text/plain": [
       "(3221, 11)"
      ]
     },
     "execution_count": 13,
     "metadata": {},
     "output_type": "execute_result"
    }
   ],
   "source": [
    "HepVu_df.shape"
   ]
  },
  {
   "cell_type": "markdown",
   "metadata": {},
   "source": [
    "#### Updating SVI data with HepVu overdose rates"
   ]
  },
  {
   "cell_type": "markdown",
   "metadata": {},
   "source": [
    "###### GEOID column needs to change: insert \"0\" infront of 4 character values to match other dataframe"
   ]
  },
  {
   "cell_type": "code",
   "execution_count": 4,
   "metadata": {},
   "outputs": [],
   "source": [
    "HepVu_df[\"GEO ID\"] = HepVu_df[\"GEO ID\"].astype(str)"
   ]
  },
  {
   "cell_type": "code",
   "execution_count": 5,
   "metadata": {},
   "outputs": [],
   "source": [
    "# Check the length of each value in the 'FIPS' column, and if it's 4 characters, prepend '0'\n",
    "HepVu_df['GEO ID'] = HepVu_df['GEO ID'].apply(lambda x: x.zfill(5) if len(x) == 4 else x)"
   ]
  },
  {
   "cell_type": "code",
   "execution_count": 6,
   "metadata": {},
   "outputs": [
    {
     "data": {
      "text/plain": [
       "'05023'"
      ]
     },
     "execution_count": 6,
     "metadata": {},
     "output_type": "execute_result"
    }
   ],
   "source": [
    "HepVu_df[\"GEO ID\"][123]"
   ]
  },
  {
   "cell_type": "code",
   "execution_count": 7,
   "metadata": {},
   "outputs": [],
   "source": [
    "# importing SVI dataset"
   ]
  },
  {
   "cell_type": "code",
   "execution_count": 21,
   "metadata": {},
   "outputs": [],
   "source": [
    "SVI_2020_df = gpd.read_file('./data/SVI data/SVI2020_US_county.gdb')"
   ]
  },
  {
   "cell_type": "code",
   "execution_count": 36,
   "metadata": {},
   "outputs": [
    {
     "data": {
      "text/html": [
       "<div>\n",
       "<style scoped>\n",
       "    .dataframe tbody tr th:only-of-type {\n",
       "        vertical-align: middle;\n",
       "    }\n",
       "\n",
       "    .dataframe tbody tr th {\n",
       "        vertical-align: top;\n",
       "    }\n",
       "\n",
       "    .dataframe thead th {\n",
       "        text-align: right;\n",
       "    }\n",
       "</style>\n",
       "<table border=\"1\" class=\"dataframe\">\n",
       "  <thead>\n",
       "    <tr style=\"text-align: right;\">\n",
       "      <th></th>\n",
       "      <th>ST</th>\n",
       "      <th>STATE</th>\n",
       "      <th>ST_ABBR</th>\n",
       "      <th>STCNTY</th>\n",
       "      <th>COUNTY</th>\n",
       "      <th>FIPS</th>\n",
       "      <th>LOCATION</th>\n",
       "      <th>AREA_SQMI</th>\n",
       "      <th>E_TOTPOP</th>\n",
       "      <th>M_TOTPOP</th>\n",
       "      <th>...</th>\n",
       "      <th>MP_AIAN</th>\n",
       "      <th>EP_NHPI</th>\n",
       "      <th>MP_NHPI</th>\n",
       "      <th>EP_TWOMORE</th>\n",
       "      <th>MP_TWOMORE</th>\n",
       "      <th>EP_OTHERRACE</th>\n",
       "      <th>MP_OTHERRACE</th>\n",
       "      <th>Shape_Length</th>\n",
       "      <th>Shape_Area</th>\n",
       "      <th>geometry</th>\n",
       "    </tr>\n",
       "  </thead>\n",
       "  <tbody>\n",
       "    <tr>\n",
       "      <th>0</th>\n",
       "      <td>01</td>\n",
       "      <td>Alabama</td>\n",
       "      <td>AL</td>\n",
       "      <td>01001</td>\n",
       "      <td>Autauga</td>\n",
       "      <td>01001</td>\n",
       "      <td>Autauga County, Alabama</td>\n",
       "      <td>594.455838</td>\n",
       "      <td>55639</td>\n",
       "      <td>0</td>\n",
       "      <td>...</td>\n",
       "      <td>0.2</td>\n",
       "      <td>0.0</td>\n",
       "      <td>0.1</td>\n",
       "      <td>2.0</td>\n",
       "      <td>0.7</td>\n",
       "      <td>0.2</td>\n",
       "      <td>0.3</td>\n",
       "      <td>2.052888</td>\n",
       "      <td>0.150259</td>\n",
       "      <td>MULTIPOLYGON (((-86.92120 32.65754, -86.92035 ...</td>\n",
       "    </tr>\n",
       "  </tbody>\n",
       "</table>\n",
       "<p>1 rows × 161 columns</p>\n",
       "</div>"
      ],
      "text/plain": [
       "   ST    STATE ST_ABBR STCNTY   COUNTY   FIPS                 LOCATION  \\\n",
       "0  01  Alabama      AL  01001  Autauga  01001  Autauga County, Alabama   \n",
       "\n",
       "    AREA_SQMI  E_TOTPOP  M_TOTPOP  ...  MP_AIAN  EP_NHPI  MP_NHPI  EP_TWOMORE  \\\n",
       "0  594.455838     55639         0  ...      0.2      0.0      0.1         2.0   \n",
       "\n",
       "   MP_TWOMORE  EP_OTHERRACE  MP_OTHERRACE  Shape_Length  Shape_Area  \\\n",
       "0         0.7           0.2           0.3      2.052888    0.150259   \n",
       "\n",
       "                                            geometry  \n",
       "0  MULTIPOLYGON (((-86.92120 32.65754, -86.92035 ...  \n",
       "\n",
       "[1 rows x 161 columns]"
      ]
     },
     "execution_count": 36,
     "metadata": {},
     "output_type": "execute_result"
    }
   ],
   "source": [
    "# get the FIPS code of the COUNTY = Autauga County\t\n",
    "SVI_2020_df[SVI_2020_df['FIPS'] == '01001']"
   ]
  },
  {
   "cell_type": "code",
   "execution_count": 49,
   "metadata": {},
   "outputs": [],
   "source": [
    "# SVI 2018 dataset is in csv format(Issue with downloading as geo file at the moment, so using csv file for now)\n",
    "SVI_2018_df = pd.read_csv('../data/SVI_2018_US_county.csv')"
   ]
  },
  {
   "cell_type": "markdown",
   "metadata": {},
   "source": [
    "When we read from the CSV files rather than geo data file the FIPS column loose first zero value for some data. Because of that we need to turn it into string and add zero infront of those data"
   ]
  },
  {
   "cell_type": "code",
   "execution_count": 50,
   "metadata": {},
   "outputs": [],
   "source": [
    "SVI_2018_df[\"FIPS\"] = SVI_2018_df[\"FIPS\"].astype(str)"
   ]
  },
  {
   "cell_type": "code",
   "execution_count": 54,
   "metadata": {},
   "outputs": [],
   "source": [
    "\n",
    "# Check the length of each value in the 'FIPS' column, and if it's 4 characters, prepend '0'\n",
    "SVI_2018_df['FIPS'] = SVI_2018_df['FIPS'].apply(lambda x: x.zfill(5) if len(x) == 4 else x)"
   ]
  },
  {
   "cell_type": "markdown",
   "metadata": {},
   "source": [
    "Adding geometry column because CSV file of SVI 2018 does not contains it"
   ]
  },
  {
   "cell_type": "code",
   "execution_count": 55,
   "metadata": {},
   "outputs": [],
   "source": [
    "# add \"geometry\" column to SVI_2018_df by merging it with SVI_2020_df matching the 'FIPS' column\n",
    "SVI_2018_df = SVI_2018_df.merge(SVI_2020_df[['FIPS', 'geometry']], on='FIPS')"
   ]
  },
  {
   "cell_type": "code",
   "execution_count": 56,
   "metadata": {},
   "outputs": [
    {
     "data": {
      "text/plain": [
       "(3141, 124)"
      ]
     },
     "execution_count": 56,
     "metadata": {},
     "output_type": "execute_result"
    }
   ],
   "source": [
    "SVI_2018_df.shape"
   ]
  },
  {
   "cell_type": "code",
   "execution_count": 64,
   "metadata": {},
   "outputs": [
    {
     "data": {
      "text/html": [
       "<div>\n",
       "<style scoped>\n",
       "    .dataframe tbody tr th:only-of-type {\n",
       "        vertical-align: middle;\n",
       "    }\n",
       "\n",
       "    .dataframe tbody tr th {\n",
       "        vertical-align: top;\n",
       "    }\n",
       "\n",
       "    .dataframe thead th {\n",
       "        text-align: right;\n",
       "    }\n",
       "</style>\n",
       "<table border=\"1\" class=\"dataframe\">\n",
       "  <thead>\n",
       "    <tr style=\"text-align: right;\">\n",
       "      <th></th>\n",
       "      <th>GEO ID</th>\n",
       "      <th>Narcotic Overdose Mortality Rate 2018</th>\n",
       "    </tr>\n",
       "  </thead>\n",
       "  <tbody>\n",
       "    <tr>\n",
       "      <th>0</th>\n",
       "      <td>01001</td>\n",
       "      <td>10.9</td>\n",
       "    </tr>\n",
       "    <tr>\n",
       "      <th>1</th>\n",
       "      <td>01003</td>\n",
       "      <td>14.9</td>\n",
       "    </tr>\n",
       "    <tr>\n",
       "      <th>2</th>\n",
       "      <td>01005</td>\n",
       "      <td>5.2</td>\n",
       "    </tr>\n",
       "    <tr>\n",
       "      <th>3</th>\n",
       "      <td>01007</td>\n",
       "      <td>23.1</td>\n",
       "    </tr>\n",
       "    <tr>\n",
       "      <th>4</th>\n",
       "      <td>01009</td>\n",
       "      <td>19.9</td>\n",
       "    </tr>\n",
       "    <tr>\n",
       "      <th>...</th>\n",
       "      <td>...</td>\n",
       "      <td>...</td>\n",
       "    </tr>\n",
       "    <tr>\n",
       "      <th>3216</th>\n",
       "      <td>72145</td>\n",
       "      <td>-9.0</td>\n",
       "    </tr>\n",
       "    <tr>\n",
       "      <th>3217</th>\n",
       "      <td>72147</td>\n",
       "      <td>-9.0</td>\n",
       "    </tr>\n",
       "    <tr>\n",
       "      <th>3218</th>\n",
       "      <td>72149</td>\n",
       "      <td>-9.0</td>\n",
       "    </tr>\n",
       "    <tr>\n",
       "      <th>3219</th>\n",
       "      <td>72151</td>\n",
       "      <td>-9.0</td>\n",
       "    </tr>\n",
       "    <tr>\n",
       "      <th>3220</th>\n",
       "      <td>72153</td>\n",
       "      <td>-9.0</td>\n",
       "    </tr>\n",
       "  </tbody>\n",
       "</table>\n",
       "<p>3221 rows × 2 columns</p>\n",
       "</div>"
      ],
      "text/plain": [
       "     GEO ID  Narcotic Overdose Mortality Rate 2018\n",
       "0     01001                                   10.9\n",
       "1     01003                                   14.9\n",
       "2     01005                                    5.2\n",
       "3     01007                                   23.1\n",
       "4     01009                                   19.9\n",
       "...     ...                                    ...\n",
       "3216  72145                                   -9.0\n",
       "3217  72147                                   -9.0\n",
       "3218  72149                                   -9.0\n",
       "3219  72151                                   -9.0\n",
       "3220  72153                                   -9.0\n",
       "\n",
       "[3221 rows x 2 columns]"
      ]
     },
     "execution_count": 64,
     "metadata": {},
     "output_type": "execute_result"
    }
   ],
   "source": [
    "HepVu_df[['GEO ID','Narcotic Overdose Mortality Rate 2018']]"
   ]
  },
  {
   "cell_type": "markdown",
   "metadata": {},
   "source": [
    "Now we need to add narcotic death rates from HepVu to SVI dataframe"
   ]
  },
  {
   "cell_type": "code",
   "execution_count": 65,
   "metadata": {},
   "outputs": [],
   "source": [
    "# add all the columns from HepVu_df to SVI_2020_df by matching the FIPS column to GEO ID column\n",
    "SVI_HepVu_2018_df = SVI_2018_df.merge(HepVu_df[['GEO ID','Narcotic Overdose Mortality Rate 2018']], left_on=\"FIPS\", right_on=\"GEO ID\")"
   ]
  },
  {
   "cell_type": "code",
   "execution_count": 66,
   "metadata": {},
   "outputs": [
    {
     "data": {
      "text/html": [
       "<div>\n",
       "<style scoped>\n",
       "    .dataframe tbody tr th:only-of-type {\n",
       "        vertical-align: middle;\n",
       "    }\n",
       "\n",
       "    .dataframe tbody tr th {\n",
       "        vertical-align: top;\n",
       "    }\n",
       "\n",
       "    .dataframe thead th {\n",
       "        text-align: right;\n",
       "    }\n",
       "</style>\n",
       "<table border=\"1\" class=\"dataframe\">\n",
       "  <thead>\n",
       "    <tr style=\"text-align: right;\">\n",
       "      <th></th>\n",
       "      <th>ST</th>\n",
       "      <th>STATE</th>\n",
       "      <th>ST_ABBR</th>\n",
       "      <th>COUNTY</th>\n",
       "      <th>FIPS</th>\n",
       "      <th>LOCATION</th>\n",
       "      <th>AREA_SQMI</th>\n",
       "      <th>E_TOTPOP</th>\n",
       "      <th>M_TOTPOP</th>\n",
       "      <th>E_HU</th>\n",
       "      <th>...</th>\n",
       "      <th>F_THEME4</th>\n",
       "      <th>F_TOTAL</th>\n",
       "      <th>E_UNINSUR</th>\n",
       "      <th>M_UNINSUR</th>\n",
       "      <th>EP_UNINSUR</th>\n",
       "      <th>MP_UNINSUR</th>\n",
       "      <th>E_DAYPOP</th>\n",
       "      <th>geometry</th>\n",
       "      <th>GEO ID</th>\n",
       "      <th>Narcotic Overdose Mortality Rate 2018</th>\n",
       "    </tr>\n",
       "  </thead>\n",
       "  <tbody>\n",
       "    <tr>\n",
       "      <th>0</th>\n",
       "      <td>35</td>\n",
       "      <td>NEW MEXICO</td>\n",
       "      <td>NM</td>\n",
       "      <td>Rio Arriba</td>\n",
       "      <td>35039</td>\n",
       "      <td>Rio Arriba County, New Mexico</td>\n",
       "      <td>5860.869195</td>\n",
       "      <td>39307</td>\n",
       "      <td>0</td>\n",
       "      <td>20044</td>\n",
       "      <td>...</td>\n",
       "      <td>1</td>\n",
       "      <td>-999</td>\n",
       "      <td>4160</td>\n",
       "      <td>588</td>\n",
       "      <td>10.6</td>\n",
       "      <td>1.5</td>\n",
       "      <td>32290</td>\n",
       "      <td>MULTIPOLYGON (((-107.62555 36.53832, -107.6255...</td>\n",
       "      <td>35039</td>\n",
       "      <td>80.0</td>\n",
       "    </tr>\n",
       "    <tr>\n",
       "      <th>1</th>\n",
       "      <td>1</td>\n",
       "      <td>ALABAMA</td>\n",
       "      <td>AL</td>\n",
       "      <td>Autauga</td>\n",
       "      <td>01001</td>\n",
       "      <td>Autauga County, Alabama</td>\n",
       "      <td>594.443459</td>\n",
       "      <td>55200</td>\n",
       "      <td>0</td>\n",
       "      <td>23315</td>\n",
       "      <td>...</td>\n",
       "      <td>0</td>\n",
       "      <td>0</td>\n",
       "      <td>3875</td>\n",
       "      <td>508</td>\n",
       "      <td>7.1</td>\n",
       "      <td>0.9</td>\n",
       "      <td>37301</td>\n",
       "      <td>MULTIPOLYGON (((-86.92120 32.65754, -86.92035 ...</td>\n",
       "      <td>01001</td>\n",
       "      <td>10.9</td>\n",
       "    </tr>\n",
       "    <tr>\n",
       "      <th>2</th>\n",
       "      <td>1</td>\n",
       "      <td>ALABAMA</td>\n",
       "      <td>AL</td>\n",
       "      <td>Blount</td>\n",
       "      <td>01009</td>\n",
       "      <td>Blount County, Alabama</td>\n",
       "      <td>644.830460</td>\n",
       "      <td>57645</td>\n",
       "      <td>0</td>\n",
       "      <td>24222</td>\n",
       "      <td>...</td>\n",
       "      <td>0</td>\n",
       "      <td>0</td>\n",
       "      <td>6303</td>\n",
       "      <td>732</td>\n",
       "      <td>11.0</td>\n",
       "      <td>1.3</td>\n",
       "      <td>40036</td>\n",
       "      <td>MULTIPOLYGON (((-86.96336 33.85822, -86.95967 ...</td>\n",
       "      <td>01009</td>\n",
       "      <td>19.9</td>\n",
       "    </tr>\n",
       "  </tbody>\n",
       "</table>\n",
       "<p>3 rows × 126 columns</p>\n",
       "</div>"
      ],
      "text/plain": [
       "   ST       STATE ST_ABBR      COUNTY   FIPS                       LOCATION  \\\n",
       "0  35  NEW MEXICO      NM  Rio Arriba  35039  Rio Arriba County, New Mexico   \n",
       "1   1     ALABAMA      AL     Autauga  01001        Autauga County, Alabama   \n",
       "2   1     ALABAMA      AL      Blount  01009         Blount County, Alabama   \n",
       "\n",
       "     AREA_SQMI  E_TOTPOP  M_TOTPOP   E_HU  ...  F_THEME4  F_TOTAL  E_UNINSUR  \\\n",
       "0  5860.869195     39307         0  20044  ...         1     -999       4160   \n",
       "1   594.443459     55200         0  23315  ...         0        0       3875   \n",
       "2   644.830460     57645         0  24222  ...         0        0       6303   \n",
       "\n",
       "   M_UNINSUR  EP_UNINSUR  MP_UNINSUR  E_DAYPOP  \\\n",
       "0        588        10.6         1.5     32290   \n",
       "1        508         7.1         0.9     37301   \n",
       "2        732        11.0         1.3     40036   \n",
       "\n",
       "                                            geometry  GEO ID  \\\n",
       "0  MULTIPOLYGON (((-107.62555 36.53832, -107.6255...   35039   \n",
       "1  MULTIPOLYGON (((-86.92120 32.65754, -86.92035 ...   01001   \n",
       "2  MULTIPOLYGON (((-86.96336 33.85822, -86.95967 ...   01009   \n",
       "\n",
       "   Narcotic Overdose Mortality Rate 2018  \n",
       "0                                   80.0  \n",
       "1                                   10.9  \n",
       "2                                   19.9  \n",
       "\n",
       "[3 rows x 126 columns]"
      ]
     },
     "execution_count": 66,
     "metadata": {},
     "output_type": "execute_result"
    }
   ],
   "source": [
    "SVI_HepVu_2018_df.head(3)"
   ]
  },
  {
   "cell_type": "code",
   "execution_count": null,
   "metadata": {},
   "outputs": [],
   "source": [
    "#get column names to a list\n",
    "column_names = SVI_2020_df.columns.tolist()\n",
    "column_names"
   ]
  },
  {
   "cell_type": "code",
   "execution_count": null,
   "metadata": {},
   "outputs": [],
   "source": [
    "# rename  'Opioid Prescription Rate 2020', and 'Narcotic Overdose Mortality Rate 2020'\n",
    "SVI_2020_df.rename(columns = {'Opioid Prescription Rate 2020':'OP_Rate_20', 'Narcotic Overdose Mortality Rate 2020':'NOD_Rate_2020'}, inplace = True)"
   ]
  },
  {
   "cell_type": "code",
   "execution_count": null,
   "metadata": {},
   "outputs": [],
   "source": [
    "# save SVI_2020_df as a shapefile\n",
    "SVI_2020_df.to_file(\"./data/SVI 2020 with HepVu/SVI2020_US_county_with_opioid_indicators.shp\")"
   ]
  },
  {
   "cell_type": "code",
   "execution_count": null,
   "metadata": {},
   "outputs": [],
   "source": []
  }
 ],
 "metadata": {
  "kernelspec": {
   "display_name": "TDA",
   "language": "python",
   "name": "python3"
  },
  "language_info": {
   "codemirror_mode": {
    "name": "ipython",
    "version": 3
   },
   "file_extension": ".py",
   "mimetype": "text/x-python",
   "name": "python",
   "nbconvert_exporter": "python",
   "pygments_lexer": "ipython3",
   "version": "3.11.4"
  }
 },
 "nbformat": 4,
 "nbformat_minor": 2
}
