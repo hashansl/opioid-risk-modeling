{
 "cells": [
  {
   "cell_type": "code",
   "execution_count": 2,
   "metadata": {},
   "outputs": [],
   "source": [
    "from CustomDataset_peristence_img import data_loader_persistence_img"
   ]
  },
  {
   "cell_type": "code",
   "execution_count": null,
   "metadata": {},
   "outputs": [],
   "source": []
  },
  {
   "cell_type": "code",
   "execution_count": 3,
   "metadata": {},
   "outputs": [],
   "source": [
    "# Create custom dataset\n",
    "custom_dataset = data_loader_persistence_img(geo_file_path='/Users/h6x/ORNL/git/opioid-risk-modeling/tennessee/data/processed data/SVI with HepVu census tracts/SVI2018 TN census tracts with death rate HepVu/SVI2018_TN_census_tracts_with_death_rate_HepVu.shp',\n",
    "    root_dir='/Users/h6x/ORNL/git/opioid-risk-modeling/tennessee/results/persistence images/percentiles/H0H1/EP_POV')"
   ]
  },
  {
   "cell_type": "code",
   "execution_count": null,
   "metadata": {},
   "outputs": [],
   "source": []
  },
  {
   "cell_type": "code",
   "execution_count": null,
   "metadata": {},
   "outputs": [],
   "source": []
  },
  {
   "cell_type": "code",
   "execution_count": 4,
   "metadata": {},
   "outputs": [],
   "source": [
    "import pandas as pd\n",
    "import os\n",
    "from skimage import io\n",
    "import geopandas as gpd"
   ]
  },
  {
   "cell_type": "code",
   "execution_count": 8,
   "metadata": {},
   "outputs": [],
   "source": [
    "gdf = gpd.read_file('/Users/h6x/ORNL/git/opioid-risk-modeling/tennessee/data/processed data/SVI2018 TN counties with death rate HepVu/SVI2018_TN_counties_with_death_rate_HepVu.shp')"
   ]
  },
  {
   "cell_type": "code",
   "execution_count": 12,
   "metadata": {},
   "outputs": [
    {
     "data": {
      "text/html": [
       "<div>\n",
       "<style scoped>\n",
       "    .dataframe tbody tr th:only-of-type {\n",
       "        vertical-align: middle;\n",
       "    }\n",
       "\n",
       "    .dataframe tbody tr th {\n",
       "        vertical-align: top;\n",
       "    }\n",
       "\n",
       "    .dataframe thead th {\n",
       "        text-align: right;\n",
       "    }\n",
       "</style>\n",
       "<table border=\"1\" class=\"dataframe\">\n",
       "  <thead>\n",
       "    <tr style=\"text-align: right;\">\n",
       "      <th></th>\n",
       "      <th>ST</th>\n",
       "      <th>STATE</th>\n",
       "      <th>ST_ABBR</th>\n",
       "      <th>COUNTY</th>\n",
       "      <th>FIPS</th>\n",
       "      <th>LOCATION</th>\n",
       "      <th>AREA_SQMI</th>\n",
       "      <th>E_TOTPOP</th>\n",
       "      <th>M_TOTPOP</th>\n",
       "      <th>E_HU</th>\n",
       "      <th>...</th>\n",
       "      <th>F_THEME4</th>\n",
       "      <th>F_TOTAL</th>\n",
       "      <th>E_UNINSUR</th>\n",
       "      <th>M_UNINSUR</th>\n",
       "      <th>EP_UNINSUR</th>\n",
       "      <th>MP_UNINSUR</th>\n",
       "      <th>E_DAYPOP</th>\n",
       "      <th>GEO ID</th>\n",
       "      <th>NOD_Rate</th>\n",
       "      <th>geometry</th>\n",
       "    </tr>\n",
       "  </thead>\n",
       "  <tbody>\n",
       "    <tr>\n",
       "      <th>0</th>\n",
       "      <td>47</td>\n",
       "      <td>TENNESSEE</td>\n",
       "      <td>TN</td>\n",
       "      <td>Anderson</td>\n",
       "      <td>47001</td>\n",
       "      <td>Anderson County, Tennessee</td>\n",
       "      <td>337.203175</td>\n",
       "      <td>75775</td>\n",
       "      <td>0</td>\n",
       "      <td>34932</td>\n",
       "      <td>...</td>\n",
       "      <td>0</td>\n",
       "      <td>0</td>\n",
       "      <td>6889</td>\n",
       "      <td>660</td>\n",
       "      <td>9.2</td>\n",
       "      <td>0.9</td>\n",
       "      <td>77087</td>\n",
       "      <td>47001</td>\n",
       "      <td>38.3</td>\n",
       "      <td>POLYGON ((-84.44988 36.15105, -84.44823 36.152...</td>\n",
       "    </tr>\n",
       "    <tr>\n",
       "      <th>1</th>\n",
       "      <td>47</td>\n",
       "      <td>TENNESSEE</td>\n",
       "      <td>TN</td>\n",
       "      <td>Bedford</td>\n",
       "      <td>47003</td>\n",
       "      <td>Bedford County, Tennessee</td>\n",
       "      <td>473.638959</td>\n",
       "      <td>47558</td>\n",
       "      <td>0</td>\n",
       "      <td>18928</td>\n",
       "      <td>...</td>\n",
       "      <td>0</td>\n",
       "      <td>0</td>\n",
       "      <td>5321</td>\n",
       "      <td>655</td>\n",
       "      <td>11.3</td>\n",
       "      <td>1.4</td>\n",
       "      <td>44134</td>\n",
       "      <td>47003</td>\n",
       "      <td>21.8</td>\n",
       "      <td>POLYGON ((-86.66330 35.47122, -86.66292 35.474...</td>\n",
       "    </tr>\n",
       "    <tr>\n",
       "      <th>2</th>\n",
       "      <td>47</td>\n",
       "      <td>TENNESSEE</td>\n",
       "      <td>TN</td>\n",
       "      <td>Blount</td>\n",
       "      <td>47009</td>\n",
       "      <td>Blount County, Tennessee</td>\n",
       "      <td>558.816658</td>\n",
       "      <td>128443</td>\n",
       "      <td>0</td>\n",
       "      <td>57296</td>\n",
       "      <td>...</td>\n",
       "      <td>0</td>\n",
       "      <td>0</td>\n",
       "      <td>11220</td>\n",
       "      <td>1033</td>\n",
       "      <td>8.8</td>\n",
       "      <td>0.8</td>\n",
       "      <td>117962</td>\n",
       "      <td>47009</td>\n",
       "      <td>33.4</td>\n",
       "      <td>POLYGON ((-84.18832 35.61055, -84.18540 35.611...</td>\n",
       "    </tr>\n",
       "  </tbody>\n",
       "</table>\n",
       "<p>3 rows × 126 columns</p>\n",
       "</div>"
      ],
      "text/plain": [
       "   ST      STATE ST_ABBR    COUNTY   FIPS                    LOCATION  \\\n",
       "0  47  TENNESSEE      TN  Anderson  47001  Anderson County, Tennessee   \n",
       "1  47  TENNESSEE      TN   Bedford  47003   Bedford County, Tennessee   \n",
       "2  47  TENNESSEE      TN    Blount  47009    Blount County, Tennessee   \n",
       "\n",
       "    AREA_SQMI  E_TOTPOP  M_TOTPOP   E_HU  ...  F_THEME4  F_TOTAL  E_UNINSUR  \\\n",
       "0  337.203175     75775         0  34932  ...         0        0       6889   \n",
       "1  473.638959     47558         0  18928  ...         0        0       5321   \n",
       "2  558.816658    128443         0  57296  ...         0        0      11220   \n",
       "\n",
       "   M_UNINSUR  EP_UNINSUR  MP_UNINSUR  E_DAYPOP  GEO ID  NOD_Rate  \\\n",
       "0        660         9.2         0.9     77087   47001      38.3   \n",
       "1        655        11.3         1.4     44134   47003      21.8   \n",
       "2       1033         8.8         0.8    117962   47009      33.4   \n",
       "\n",
       "                                            geometry  \n",
       "0  POLYGON ((-84.44988 36.15105, -84.44823 36.152...  \n",
       "1  POLYGON ((-86.66330 35.47122, -86.66292 35.474...  \n",
       "2  POLYGON ((-84.18832 35.61055, -84.18540 35.611...  \n",
       "\n",
       "[3 rows x 126 columns]"
      ]
     },
     "execution_count": 12,
     "metadata": {},
     "output_type": "execute_result"
    }
   ],
   "source": [
    "gdf.head(3)"
   ]
  },
  {
   "cell_type": "code",
   "execution_count": 13,
   "metadata": {},
   "outputs": [
    {
     "data": {
      "text/plain": [
       "str"
      ]
     },
     "execution_count": 13,
     "metadata": {},
     "output_type": "execute_result"
    }
   ],
   "source": [
    "type(gdf['FIPS'][0])"
   ]
  },
  {
   "cell_type": "code",
   "execution_count": 14,
   "metadata": {},
   "outputs": [
    {
     "data": {
      "text/plain": [
       "'47001'"
      ]
     },
     "execution_count": 14,
     "metadata": {},
     "output_type": "execute_result"
    }
   ],
   "source": [
    "gdf.iloc[0]['FIPS']"
   ]
  },
  {
   "cell_type": "code",
   "execution_count": 15,
   "metadata": {},
   "outputs": [
    {
     "data": {
      "text/plain": [
       "'47001'"
      ]
     },
     "execution_count": 15,
     "metadata": {},
     "output_type": "execute_result"
    }
   ],
   "source": [
    "gdf.iloc[0,4]"
   ]
  },
  {
   "cell_type": "code",
   "execution_count": null,
   "metadata": {},
   "outputs": [],
   "source": []
  }
 ],
 "metadata": {
  "kernelspec": {
   "display_name": "TDA",
   "language": "python",
   "name": "python3"
  },
  "language_info": {
   "codemirror_mode": {
    "name": "ipython",
    "version": 3
   },
   "file_extension": ".py",
   "mimetype": "text/x-python",
   "name": "python",
   "nbconvert_exporter": "python",
   "pygments_lexer": "ipython3",
   "version": "3.11.4"
  }
 },
 "nbformat": 4,
 "nbformat_minor": 2
}
