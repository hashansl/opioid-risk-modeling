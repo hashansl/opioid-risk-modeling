{
 "cells": [
  {
   "cell_type": "markdown",
   "metadata": {},
   "source": [
    "### Processing SVI data and HepVu death rates data into one dataframe\n",
    "This is done for all the counties in the US"
   ]
  },
  {
   "cell_type": "code",
   "execution_count": 1,
   "metadata": {},
   "outputs": [
    {
     "name": "stderr",
     "output_type": "stream",
     "text": [
      "/Users/h6x/anaconda3/envs/TDA/lib/python3.11/site-packages/pandas/core/arrays/masked.py:60: UserWarning: Pandas requires version '1.3.6' or newer of 'bottleneck' (version '1.3.5' currently installed).\n",
      "  from pandas.core import (\n"
     ]
    }
   ],
   "source": [
    "import pandas as pd\n",
    "import numpy as np\n",
    "import geopandas as gpd"
   ]
  },
  {
   "cell_type": "code",
   "execution_count": 2,
   "metadata": {},
   "outputs": [],
   "source": [
    "#import xlsx file as a dataframe\n",
    "HepVu_df = pd.read_excel('./data/HepVu_County_Opioid_Indicators_05DEC22.xlsx')"
   ]
  },
  {
   "cell_type": "code",
   "execution_count": 3,
   "metadata": {},
   "outputs": [
    {
     "data": {
      "text/html": [
       "<div>\n",
       "<style scoped>\n",
       "    .dataframe tbody tr th:only-of-type {\n",
       "        vertical-align: middle;\n",
       "    }\n",
       "\n",
       "    .dataframe tbody tr th {\n",
       "        vertical-align: top;\n",
       "    }\n",
       "\n",
       "    .dataframe thead th {\n",
       "        text-align: right;\n",
       "    }\n",
       "</style>\n",
       "<table border=\"1\" class=\"dataframe\">\n",
       "  <thead>\n",
       "    <tr style=\"text-align: right;\">\n",
       "      <th></th>\n",
       "      <th>GEO ID</th>\n",
       "      <th>State Abbreviation</th>\n",
       "      <th>County Name</th>\n",
       "      <th>Opioid Prescription Rate 2020</th>\n",
       "      <th>Narcotic Overdose Mortality Rate 2014</th>\n",
       "      <th>Narcotic Overdose Mortality Rate 2015</th>\n",
       "      <th>Narcotic Overdose Mortality Rate 2016</th>\n",
       "      <th>Narcotic Overdose Mortality Rate 2017</th>\n",
       "      <th>Narcotic Overdose Mortality Rate 2018</th>\n",
       "      <th>Narcotic Overdose Mortality Rate 2019</th>\n",
       "      <th>Narcotic Overdose Mortality Rate 2020</th>\n",
       "    </tr>\n",
       "  </thead>\n",
       "  <tbody>\n",
       "    <tr>\n",
       "      <th>0</th>\n",
       "      <td>1001</td>\n",
       "      <td>AL</td>\n",
       "      <td>Autauga County</td>\n",
       "      <td>98.3</td>\n",
       "      <td>8.2</td>\n",
       "      <td>8.8</td>\n",
       "      <td>10.7</td>\n",
       "      <td>9.8</td>\n",
       "      <td>10.9</td>\n",
       "      <td>9.2</td>\n",
       "      <td>11.6</td>\n",
       "    </tr>\n",
       "    <tr>\n",
       "      <th>1</th>\n",
       "      <td>1003</td>\n",
       "      <td>AL</td>\n",
       "      <td>Baldwin County</td>\n",
       "      <td>65.0</td>\n",
       "      <td>18.0</td>\n",
       "      <td>20.0</td>\n",
       "      <td>16.6</td>\n",
       "      <td>15.1</td>\n",
       "      <td>14.9</td>\n",
       "      <td>14.5</td>\n",
       "      <td>27.4</td>\n",
       "    </tr>\n",
       "    <tr>\n",
       "      <th>2</th>\n",
       "      <td>1005</td>\n",
       "      <td>AL</td>\n",
       "      <td>Barbour County</td>\n",
       "      <td>22.8</td>\n",
       "      <td>4.4</td>\n",
       "      <td>4.5</td>\n",
       "      <td>5.7</td>\n",
       "      <td>5.8</td>\n",
       "      <td>5.2</td>\n",
       "      <td>5.7</td>\n",
       "      <td>7.6</td>\n",
       "    </tr>\n",
       "    <tr>\n",
       "      <th>3</th>\n",
       "      <td>1007</td>\n",
       "      <td>AL</td>\n",
       "      <td>Bibb County</td>\n",
       "      <td>24.8</td>\n",
       "      <td>17.2</td>\n",
       "      <td>16.6</td>\n",
       "      <td>22.6</td>\n",
       "      <td>21.7</td>\n",
       "      <td>23.1</td>\n",
       "      <td>19.4</td>\n",
       "      <td>27.3</td>\n",
       "    </tr>\n",
       "    <tr>\n",
       "      <th>4</th>\n",
       "      <td>1009</td>\n",
       "      <td>AL</td>\n",
       "      <td>Blount County</td>\n",
       "      <td>22.8</td>\n",
       "      <td>18.6</td>\n",
       "      <td>18.9</td>\n",
       "      <td>22.7</td>\n",
       "      <td>27.0</td>\n",
       "      <td>19.9</td>\n",
       "      <td>20.3</td>\n",
       "      <td>24.2</td>\n",
       "    </tr>\n",
       "  </tbody>\n",
       "</table>\n",
       "</div>"
      ],
      "text/plain": [
       "   GEO ID State Abbreviation     County Name  Opioid Prescription Rate 2020  \\\n",
       "0    1001                 AL  Autauga County                           98.3   \n",
       "1    1003                 AL  Baldwin County                           65.0   \n",
       "2    1005                 AL  Barbour County                           22.8   \n",
       "3    1007                 AL     Bibb County                           24.8   \n",
       "4    1009                 AL   Blount County                           22.8   \n",
       "\n",
       "   Narcotic Overdose Mortality Rate 2014  \\\n",
       "0                                    8.2   \n",
       "1                                   18.0   \n",
       "2                                    4.4   \n",
       "3                                   17.2   \n",
       "4                                   18.6   \n",
       "\n",
       "   Narcotic Overdose Mortality Rate 2015  \\\n",
       "0                                    8.8   \n",
       "1                                   20.0   \n",
       "2                                    4.5   \n",
       "3                                   16.6   \n",
       "4                                   18.9   \n",
       "\n",
       "   Narcotic Overdose Mortality Rate 2016  \\\n",
       "0                                   10.7   \n",
       "1                                   16.6   \n",
       "2                                    5.7   \n",
       "3                                   22.6   \n",
       "4                                   22.7   \n",
       "\n",
       "   Narcotic Overdose Mortality Rate 2017  \\\n",
       "0                                    9.8   \n",
       "1                                   15.1   \n",
       "2                                    5.8   \n",
       "3                                   21.7   \n",
       "4                                   27.0   \n",
       "\n",
       "   Narcotic Overdose Mortality Rate 2018  \\\n",
       "0                                   10.9   \n",
       "1                                   14.9   \n",
       "2                                    5.2   \n",
       "3                                   23.1   \n",
       "4                                   19.9   \n",
       "\n",
       "   Narcotic Overdose Mortality Rate 2019  \\\n",
       "0                                    9.2   \n",
       "1                                   14.5   \n",
       "2                                    5.7   \n",
       "3                                   19.4   \n",
       "4                                   20.3   \n",
       "\n",
       "   Narcotic Overdose Mortality Rate 2020  \n",
       "0                                   11.6  \n",
       "1                                   27.4  \n",
       "2                                    7.6  \n",
       "3                                   27.3  \n",
       "4                                   24.2  "
      ]
     },
     "execution_count": 3,
     "metadata": {},
     "output_type": "execute_result"
    }
   ],
   "source": [
    "HepVu_df.head()"
   ]
  },
  {
   "cell_type": "code",
   "execution_count": 4,
   "metadata": {},
   "outputs": [
    {
     "data": {
      "text/plain": [
       "(3221, 11)"
      ]
     },
     "execution_count": 4,
     "metadata": {},
     "output_type": "execute_result"
    }
   ],
   "source": [
    "HepVu_df.shape"
   ]
  },
  {
   "cell_type": "markdown",
   "metadata": {},
   "source": [
    "#### Updating HepVu dataframe \"GEO ID\" column"
   ]
  },
  {
   "cell_type": "markdown",
   "metadata": {},
   "source": [
    "###### GEOID column needs to change: insert \"0\" infront of 4 character values to match other dataframe"
   ]
  },
  {
   "cell_type": "code",
   "execution_count": 5,
   "metadata": {},
   "outputs": [],
   "source": [
    "HepVu_df[\"GEO ID\"] = HepVu_df[\"GEO ID\"].astype(str)"
   ]
  },
  {
   "cell_type": "code",
   "execution_count": 6,
   "metadata": {},
   "outputs": [],
   "source": [
    "# Check the length of each value in the 'FIPS' column, and if it's 4 characters, prepend '0'\n",
    "HepVu_df['GEO ID'] = HepVu_df['GEO ID'].apply(lambda x: x.zfill(5) if len(x) == 4 else x)"
   ]
  },
  {
   "cell_type": "code",
   "execution_count": 7,
   "metadata": {},
   "outputs": [
    {
     "data": {
      "text/plain": [
       "'05023'"
      ]
     },
     "execution_count": 7,
     "metadata": {},
     "output_type": "execute_result"
    }
   ],
   "source": [
    "HepVu_df[\"GEO ID\"][123]"
   ]
  },
  {
   "cell_type": "markdown",
   "metadata": {},
   "source": [
    "#### Updating SVI (SELECTED YEAR) dataframe\n",
    "Filling the geometru colum from SVI 2020 and converting FIPS column into string+adding zero"
   ]
  },
  {
   "cell_type": "markdown",
   "metadata": {},
   "source": [
    "#"
   ]
  },
  {
   "cell_type": "code",
   "execution_count": 8,
   "metadata": {},
   "outputs": [],
   "source": [
    "# SVI 2018 dataset is in csv format(Issue with downloading as geo file at the moment, so using csv file for now)\n",
    "SVI_df = gpd.read_file('./data/SVI data/SVI2020_US_county.gdb')"
   ]
  },
  {
   "cell_type": "markdown",
   "metadata": {},
   "source": [
    "When we read from the CSV files rather than geo data file the FIPS column loose first zero value for some data. Because of that we need to turn it into string and add zero infront of those data"
   ]
  },
  {
   "cell_type": "code",
   "execution_count": 9,
   "metadata": {},
   "outputs": [],
   "source": [
    "SVI_df[\"FIPS\"] = SVI_df[\"FIPS\"].astype(str)"
   ]
  },
  {
   "cell_type": "code",
   "execution_count": 10,
   "metadata": {},
   "outputs": [],
   "source": [
    "\n",
    "# Check the length of each value in the 'FIPS' column, and if it's 4 characters, prepend '0'\n",
    "SVI_df['FIPS'] = SVI_df['FIPS'].apply(lambda x: x.zfill(5) if len(x) == 4 else x)"
   ]
  },
  {
   "cell_type": "markdown",
   "metadata": {},
   "source": [
    "Adding geometry column because CSV file of SVI 2018 does not contains it"
   ]
  },
  {
   "cell_type": "code",
   "execution_count": 11,
   "metadata": {},
   "outputs": [],
   "source": [
    "# # add \"geometry\" column to SVI_2018_df by merging it with SVI_2020_df matching the 'FIPS' column\n",
    "# SVI_2018_df = SVI_2018_df.merge(SVI_2020_df[['FIPS', 'geometry']], on='FIPS')"
   ]
  },
  {
   "cell_type": "code",
   "execution_count": 12,
   "metadata": {},
   "outputs": [],
   "source": [
    "# SVI_2018_df.shape #some data is missing"
   ]
  },
  {
   "cell_type": "markdown",
   "metadata": {},
   "source": [
    "Now we need to add narcotic death rates from HepVu to SVI dataframe"
   ]
  },
  {
   "cell_type": "code",
   "execution_count": 13,
   "metadata": {},
   "outputs": [],
   "source": [
    "# add all the columns from HepVu_df to SVI_2020_df by matching the FIPS column to GEO ID column\n",
    "SVI_HepVu_df = SVI_df.merge(HepVu_df[['GEO ID','Narcotic Overdose Mortality Rate 2020']], left_on=\"FIPS\", right_on=\"GEO ID\")"
   ]
  },
  {
   "cell_type": "code",
   "execution_count": 14,
   "metadata": {},
   "outputs": [
    {
     "data": {
      "text/html": [
       "<div>\n",
       "<style scoped>\n",
       "    .dataframe tbody tr th:only-of-type {\n",
       "        vertical-align: middle;\n",
       "    }\n",
       "\n",
       "    .dataframe tbody tr th {\n",
       "        vertical-align: top;\n",
       "    }\n",
       "\n",
       "    .dataframe thead th {\n",
       "        text-align: right;\n",
       "    }\n",
       "</style>\n",
       "<table border=\"1\" class=\"dataframe\">\n",
       "  <thead>\n",
       "    <tr style=\"text-align: right;\">\n",
       "      <th></th>\n",
       "      <th>ST</th>\n",
       "      <th>STATE</th>\n",
       "      <th>ST_ABBR</th>\n",
       "      <th>STCNTY</th>\n",
       "      <th>COUNTY</th>\n",
       "      <th>FIPS</th>\n",
       "      <th>LOCATION</th>\n",
       "      <th>AREA_SQMI</th>\n",
       "      <th>E_TOTPOP</th>\n",
       "      <th>M_TOTPOP</th>\n",
       "      <th>...</th>\n",
       "      <th>MP_NHPI</th>\n",
       "      <th>EP_TWOMORE</th>\n",
       "      <th>MP_TWOMORE</th>\n",
       "      <th>EP_OTHERRACE</th>\n",
       "      <th>MP_OTHERRACE</th>\n",
       "      <th>Shape_Length</th>\n",
       "      <th>Shape_Area</th>\n",
       "      <th>geometry</th>\n",
       "      <th>GEO ID</th>\n",
       "      <th>Narcotic Overdose Mortality Rate 2020</th>\n",
       "    </tr>\n",
       "  </thead>\n",
       "  <tbody>\n",
       "    <tr>\n",
       "      <th>0</th>\n",
       "      <td>01</td>\n",
       "      <td>Alabama</td>\n",
       "      <td>AL</td>\n",
       "      <td>01001</td>\n",
       "      <td>Autauga</td>\n",
       "      <td>01001</td>\n",
       "      <td>Autauga County, Alabama</td>\n",
       "      <td>594.455838</td>\n",
       "      <td>55639</td>\n",
       "      <td>0</td>\n",
       "      <td>...</td>\n",
       "      <td>0.1</td>\n",
       "      <td>2.0</td>\n",
       "      <td>0.7</td>\n",
       "      <td>0.2</td>\n",
       "      <td>0.3</td>\n",
       "      <td>2.052888</td>\n",
       "      <td>0.150259</td>\n",
       "      <td>MULTIPOLYGON (((-86.92120 32.65754, -86.92035 ...</td>\n",
       "      <td>01001</td>\n",
       "      <td>11.6</td>\n",
       "    </tr>\n",
       "    <tr>\n",
       "      <th>1</th>\n",
       "      <td>01</td>\n",
       "      <td>Alabama</td>\n",
       "      <td>AL</td>\n",
       "      <td>01003</td>\n",
       "      <td>Baldwin</td>\n",
       "      <td>01003</td>\n",
       "      <td>Baldwin County, Alabama</td>\n",
       "      <td>1589.835294</td>\n",
       "      <td>218289</td>\n",
       "      <td>0</td>\n",
       "      <td>...</td>\n",
       "      <td>0.1</td>\n",
       "      <td>1.9</td>\n",
       "      <td>0.4</td>\n",
       "      <td>0.3</td>\n",
       "      <td>0.2</td>\n",
       "      <td>4.278488</td>\n",
       "      <td>0.409924</td>\n",
       "      <td>MULTIPOLYGON (((-88.02858 30.22676, -88.02399 ...</td>\n",
       "      <td>01003</td>\n",
       "      <td>27.4</td>\n",
       "    </tr>\n",
       "    <tr>\n",
       "      <th>2</th>\n",
       "      <td>01</td>\n",
       "      <td>Alabama</td>\n",
       "      <td>AL</td>\n",
       "      <td>01005</td>\n",
       "      <td>Barbour</td>\n",
       "      <td>01005</td>\n",
       "      <td>Barbour County, Alabama</td>\n",
       "      <td>885.007618</td>\n",
       "      <td>25026</td>\n",
       "      <td>0</td>\n",
       "      <td>...</td>\n",
       "      <td>0.1</td>\n",
       "      <td>1.3</td>\n",
       "      <td>0.6</td>\n",
       "      <td>0.6</td>\n",
       "      <td>0.4</td>\n",
       "      <td>2.569455</td>\n",
       "      <td>0.223268</td>\n",
       "      <td>MULTIPOLYGON (((-85.74803 31.61918, -85.74543 ...</td>\n",
       "      <td>01005</td>\n",
       "      <td>7.6</td>\n",
       "    </tr>\n",
       "  </tbody>\n",
       "</table>\n",
       "<p>3 rows × 163 columns</p>\n",
       "</div>"
      ],
      "text/plain": [
       "   ST    STATE ST_ABBR STCNTY   COUNTY   FIPS                 LOCATION  \\\n",
       "0  01  Alabama      AL  01001  Autauga  01001  Autauga County, Alabama   \n",
       "1  01  Alabama      AL  01003  Baldwin  01003  Baldwin County, Alabama   \n",
       "2  01  Alabama      AL  01005  Barbour  01005  Barbour County, Alabama   \n",
       "\n",
       "     AREA_SQMI  E_TOTPOP  M_TOTPOP  ...  MP_NHPI  EP_TWOMORE  MP_TWOMORE  \\\n",
       "0   594.455838     55639         0  ...      0.1         2.0         0.7   \n",
       "1  1589.835294    218289         0  ...      0.1         1.9         0.4   \n",
       "2   885.007618     25026         0  ...      0.1         1.3         0.6   \n",
       "\n",
       "   EP_OTHERRACE  MP_OTHERRACE  Shape_Length  Shape_Area  \\\n",
       "0           0.2           0.3      2.052888    0.150259   \n",
       "1           0.3           0.2      4.278488    0.409924   \n",
       "2           0.6           0.4      2.569455    0.223268   \n",
       "\n",
       "                                            geometry  GEO ID  \\\n",
       "0  MULTIPOLYGON (((-86.92120 32.65754, -86.92035 ...   01001   \n",
       "1  MULTIPOLYGON (((-88.02858 30.22676, -88.02399 ...   01003   \n",
       "2  MULTIPOLYGON (((-85.74803 31.61918, -85.74543 ...   01005   \n",
       "\n",
       "   Narcotic Overdose Mortality Rate 2020  \n",
       "0                                   11.6  \n",
       "1                                   27.4  \n",
       "2                                    7.6  \n",
       "\n",
       "[3 rows x 163 columns]"
      ]
     },
     "execution_count": 14,
     "metadata": {},
     "output_type": "execute_result"
    }
   ],
   "source": [
    "SVI_HepVu_df.head(3)"
   ]
  },
  {
   "cell_type": "code",
   "execution_count": 15,
   "metadata": {},
   "outputs": [
    {
     "data": {
      "text/plain": [
       "['ST',\n",
       " 'STATE',\n",
       " 'ST_ABBR',\n",
       " 'STCNTY',\n",
       " 'COUNTY',\n",
       " 'FIPS',\n",
       " 'LOCATION',\n",
       " 'AREA_SQMI',\n",
       " 'E_TOTPOP',\n",
       " 'M_TOTPOP',\n",
       " 'E_HU',\n",
       " 'M_HU',\n",
       " 'E_HH',\n",
       " 'M_HH',\n",
       " 'E_POV150',\n",
       " 'M_POV150',\n",
       " 'E_UNEMP',\n",
       " 'M_UNEMP',\n",
       " 'E_HBURD',\n",
       " 'M_HBURD',\n",
       " 'E_NOHSDP',\n",
       " 'M_NOHSDP',\n",
       " 'E_UNINSUR',\n",
       " 'M_UNINSUR',\n",
       " 'E_AGE65',\n",
       " 'M_AGE65',\n",
       " 'E_AGE17',\n",
       " 'M_AGE17',\n",
       " 'E_DISABL',\n",
       " 'M_DISABL',\n",
       " 'E_SNGPNT',\n",
       " 'M_SNGPNT',\n",
       " 'E_LIMENG',\n",
       " 'M_LIMENG',\n",
       " 'E_MINRTY',\n",
       " 'M_MINRTY',\n",
       " 'E_MUNIT',\n",
       " 'M_MUNIT',\n",
       " 'E_MOBILE',\n",
       " 'M_MOBILE',\n",
       " 'E_CROWD',\n",
       " 'M_CROWD',\n",
       " 'E_NOVEH',\n",
       " 'M_NOVEH',\n",
       " 'E_GROUPQ',\n",
       " 'M_GROUPQ',\n",
       " 'EP_POV150',\n",
       " 'MP_POV150',\n",
       " 'EP_UNEMP',\n",
       " 'MP_UNEMP',\n",
       " 'EP_HBURD',\n",
       " 'MP_HBURD',\n",
       " 'EP_NOHSDP',\n",
       " 'MP_NOHSDP',\n",
       " 'EP_UNINSUR',\n",
       " 'MP_UNINSUR',\n",
       " 'EP_AGE65',\n",
       " 'MP_AGE65',\n",
       " 'EP_AGE17',\n",
       " 'MP_AGE17',\n",
       " 'EP_DISABL',\n",
       " 'MP_DISABL',\n",
       " 'EP_SNGPNT',\n",
       " 'MP_SNGPNT',\n",
       " 'EP_LIMENG',\n",
       " 'MP_LIMENG',\n",
       " 'EP_MINRTY',\n",
       " 'MP_MINRTY',\n",
       " 'EP_MUNIT',\n",
       " 'MP_MUNIT',\n",
       " 'EP_MOBILE',\n",
       " 'MP_MOBILE',\n",
       " 'EP_CROWD',\n",
       " 'MP_CROWD',\n",
       " 'EP_NOVEH',\n",
       " 'MP_NOVEH',\n",
       " 'EP_GROUPQ',\n",
       " 'MP_GROUPQ',\n",
       " 'EPL_POV150',\n",
       " 'EPL_UNEMP',\n",
       " 'EPL_HBURD',\n",
       " 'EPL_NOHSDP',\n",
       " 'EPL_UNINSUR',\n",
       " 'SPL_THEME1',\n",
       " 'RPL_THEME1',\n",
       " 'EPL_AGE65',\n",
       " 'EPL_AGE17',\n",
       " 'EPL_DISABL',\n",
       " 'EPL_SNGPNT',\n",
       " 'EPL_LIMENG',\n",
       " 'SPL_THEME2',\n",
       " 'RPL_THEME2',\n",
       " 'EPL_MINRTY',\n",
       " 'SPL_THEME3',\n",
       " 'RPL_THEME3',\n",
       " 'EPL_MUNIT',\n",
       " 'EPL_MOBILE',\n",
       " 'EPL_CROWD',\n",
       " 'EPL_NOVEH',\n",
       " 'EPL_GROUPQ',\n",
       " 'SPL_THEME4',\n",
       " 'RPL_THEME4',\n",
       " 'SPL_THEMES',\n",
       " 'RPL_THEMES',\n",
       " 'F_POV150',\n",
       " 'F_UNEMP',\n",
       " 'F_HBURD',\n",
       " 'F_NOHSDP',\n",
       " 'F_UNINSUR',\n",
       " 'F_THEME1',\n",
       " 'F_AGE65',\n",
       " 'F_AGE17',\n",
       " 'F_DISABL',\n",
       " 'F_SNGPNT',\n",
       " 'F_LIMENG',\n",
       " 'F_THEME2',\n",
       " 'F_MINRTY',\n",
       " 'F_THEME3',\n",
       " 'F_MUNIT',\n",
       " 'F_MOBILE',\n",
       " 'F_CROWD',\n",
       " 'F_NOVEH',\n",
       " 'F_GROUPQ',\n",
       " 'F_THEME4',\n",
       " 'F_TOTAL',\n",
       " 'E_DAYPOP',\n",
       " 'E_NOINT',\n",
       " 'M_NOINT',\n",
       " 'E_AFAM',\n",
       " 'M_AFAM',\n",
       " 'E_HISP',\n",
       " 'M_HISP',\n",
       " 'E_ASIAN',\n",
       " 'M_ASIAN',\n",
       " 'E_AIAN',\n",
       " 'M_AIAN',\n",
       " 'E_NHPI',\n",
       " 'M_NHPI',\n",
       " 'E_TWOMORE',\n",
       " 'M_TWOMORE',\n",
       " 'E_OTHERRACE',\n",
       " 'M_OTHERRACE',\n",
       " 'EP_NOINT',\n",
       " 'MP_NOINT',\n",
       " 'EP_AFAM',\n",
       " 'MP_AFAM',\n",
       " 'EP_HISP',\n",
       " 'MP_HISP',\n",
       " 'EP_ASIAN',\n",
       " 'MP_ASIAN',\n",
       " 'EP_AIAN',\n",
       " 'MP_AIAN',\n",
       " 'EP_NHPI',\n",
       " 'MP_NHPI',\n",
       " 'EP_TWOMORE',\n",
       " 'MP_TWOMORE',\n",
       " 'EP_OTHERRACE',\n",
       " 'MP_OTHERRACE',\n",
       " 'Shape_Length',\n",
       " 'Shape_Area',\n",
       " 'geometry',\n",
       " 'GEO ID',\n",
       " 'Narcotic Overdose Mortality Rate 2020']"
      ]
     },
     "execution_count": 15,
     "metadata": {},
     "output_type": "execute_result"
    }
   ],
   "source": [
    "#get column names to a list\n",
    "column_names = SVI_HepVu_df.columns.tolist()\n",
    "column_names"
   ]
  },
  {
   "cell_type": "code",
   "execution_count": 16,
   "metadata": {},
   "outputs": [],
   "source": [
    "# rename  'Opioid Prescription Rate 2018'\n",
    "SVI_HepVu_df.rename(columns = {'Narcotic Overdose Mortality Rate 2020':'NOD_Rate'}, inplace = True)"
   ]
  },
  {
   "cell_type": "code",
   "execution_count": 17,
   "metadata": {},
   "outputs": [],
   "source": [
    "# Convert the DataFrame to a GeoDataFrame\n",
    "SVI_HepVu_2018_df = gpd.GeoDataFrame(SVI_HepVu_df, geometry='geometry')"
   ]
  },
  {
   "cell_type": "code",
   "execution_count": 18,
   "metadata": {},
   "outputs": [
    {
     "name": "stderr",
     "output_type": "stream",
     "text": [
      "/var/folders/j3/904q7dbj02j_jyjz7pvfgz384d40kw/T/ipykernel_2127/986067051.py:2: UserWarning: Column names longer than 10 characters will be truncated when saved to ESRI Shapefile.\n",
      "  SVI_HepVu_2018_df.to_file(\"./data/processed data/SVI 2020 with HepVu/SVI2020_US_county_with_opioid_indicators.shp\")\n"
     ]
    }
   ],
   "source": [
    "# save SVI_HepVu_2018_df as a shapefile\n",
    "SVI_HepVu_2018_df.to_file(\"./data/processed data/SVI 2020 with HepVu/SVI2020_US_county_with_opioid_indicators.shp\")"
   ]
  },
  {
   "cell_type": "code",
   "execution_count": null,
   "metadata": {},
   "outputs": [],
   "source": []
  }
 ],
 "metadata": {
  "kernelspec": {
   "display_name": "TDA",
   "language": "python",
   "name": "python3"
  },
  "language_info": {
   "codemirror_mode": {
    "name": "ipython",
    "version": 3
   },
   "file_extension": ".py",
   "mimetype": "text/x-python",
   "name": "python",
   "nbconvert_exporter": "python",
   "pygments_lexer": "ipython3",
   "version": "3.1.undefined"
  }
 },
 "nbformat": 4,
 "nbformat_minor": 2
}
