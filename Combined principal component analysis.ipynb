{
 "cells": [
  {
   "cell_type": "markdown",
   "metadata": {},
   "source": [
    "### PCA on SVI 2018 data for Multiple regions"
   ]
  },
  {
   "cell_type": "code",
   "execution_count": 1,
   "metadata": {},
   "outputs": [],
   "source": [
    "import pandas as pd\n",
    "import matplotlib.pyplot as plt\n",
    "import geopandas as gpd\n",
    "import numpy as np\n",
    "import itertools\n",
    "from itertools import combinations\n",
    "from scipy import spatial\n",
    "import pickle as pickle\n",
    "import gudhi\n",
    "from pylab import *\n",
    "from mpl_toolkits.mplot3d import Axes3D\n",
    "%matplotlib inline\n",
    "import seaborn as sns\n",
    "from sklearn.datasets import make_regression\n",
    "from sklearn.model_selection import train_test_split\n",
    "from sklearn.feature_selection import SelectKBest\n",
    "from sklearn.feature_selection import f_regression\n",
    "from matplotlib import pyplot\n",
    "import warnings\n",
    "\n",
    "\n",
    "# Ignore FutureWarnings\n",
    "warnings.simplefilter(action='ignore', category=FutureWarning)"
   ]
  },
  {
   "cell_type": "markdown",
   "metadata": {},
   "source": [
    "#### Import the dataset"
   ]
  },
  {
   "cell_type": "code",
   "execution_count": 2,
   "metadata": {},
   "outputs": [],
   "source": [
    "washingtonDcSviRaw = gpd.read_file('./washington dc/data/processed data/SVI2018 DC counties with death rate HepVu/SVI2018_DC_counties_with_death_rate_HepVu.shp')"
   ]
  },
  {
   "cell_type": "code",
   "execution_count": 3,
   "metadata": {},
   "outputs": [],
   "source": [
    "tnSviRaw = gpd.read_file('./tennessee/data/processed data/SVI2018 TN counties with death rate HepVu/SVI2018_TN_counties_with_death_rate_HepVu.shp')"
   ]
  },
  {
   "cell_type": "code",
   "execution_count": 4,
   "metadata": {},
   "outputs": [],
   "source": [
    "WySviRaw = gpd.read_file('./wyoming/data/processed data/SVI2018 WY counties with death rate HepVu/SVI2018_WY_counties_with_death_rate_HepVu.shp')"
   ]
  },
  {
   "cell_type": "markdown",
   "metadata": {},
   "source": [
    "##### Filtering the raw variables with overdose death rate\n",
    "\n",
    "Selected variables are slightly different thatn SVI 2020 (2 variables) - EP_PCI. EP_POV"
   ]
  },
  {
   "cell_type": "code",
   "execution_count": 5,
   "metadata": {},
   "outputs": [],
   "source": [
    "selectedVariables = ['EP_POV','EP_UNEMP','EP_PCI','EP_NOHSDP','EP_UNINSUR','EP_AGE65','EP_AGE17','EP_DISABL','EP_SNGPNT','EP_LIMENG','EP_MINRTY','EP_MUNIT','EP_MOBILE','EP_CROWD','EP_NOVEH','EP_GROUPQ','NOD_Rate']"
   ]
  },
  {
   "cell_type": "code",
   "execution_count": 6,
   "metadata": {},
   "outputs": [],
   "source": [
    "selectedVariablesWithoutY = ['EP_POV','EP_UNEMP','EP_PCI','EP_NOHSDP','EP_UNINSUR','EP_AGE65','EP_AGE17','EP_DISABL','EP_SNGPNT','EP_LIMENG','EP_MINRTY','EP_MUNIT','EP_MOBILE','EP_CROWD','EP_NOVEH','EP_GROUPQ']"
   ]
  },
  {
   "cell_type": "code",
   "execution_count": 7,
   "metadata": {},
   "outputs": [],
   "source": [
    "# Filtering the data for DC\n",
    "metroSviMultipleVariablesDf = washingtonDcSviRaw[selectedVariables]"
   ]
  },
  {
   "cell_type": "code",
   "execution_count": 8,
   "metadata": {},
   "outputs": [],
   "source": [
    "# Filtering the data for TN\n",
    "tnSviMultipleVariablesDf = tnSviRaw[selectedVariables]"
   ]
  },
  {
   "cell_type": "code",
   "execution_count": 9,
   "metadata": {},
   "outputs": [],
   "source": [
    "# Filtering the data for WY\n",
    "wySviMultipleVariablesDf = WySviRaw[selectedVariables]"
   ]
  },
  {
   "cell_type": "markdown",
   "metadata": {},
   "source": [
    "#### Applying PCA"
   ]
  },
  {
   "cell_type": "code",
   "execution_count": 10,
   "metadata": {},
   "outputs": [],
   "source": [
    "import numpy as np\n",
    "import pandas as pd\n",
    "import matplotlib.pyplot as plt\n",
    "from sklearn.preprocessing import scale \n",
    "from sklearn import model_selection\n",
    "from sklearn.model_selection import RepeatedKFold\n",
    "from sklearn.model_selection import train_test_split\n",
    "from sklearn.decomposition import PCA\n",
    "from sklearn.linear_model import LinearRegression\n",
    "from sklearn.metrics import mean_squared_error\n",
    "from sklearn.preprocessing import StandardScaler\n"
   ]
  },
  {
   "cell_type": "code",
   "execution_count": 11,
   "metadata": {},
   "outputs": [],
   "source": [
    "#define predictor and response variables\n",
    "X_Dc = metroSviMultipleVariablesDf.drop('NOD_Rate', axis=1)\n",
    "y_Dc = metroSviMultipleVariablesDf['NOD_Rate']"
   ]
  },
  {
   "cell_type": "code",
   "execution_count": 12,
   "metadata": {},
   "outputs": [],
   "source": [
    "#define predictor and response variables\n",
    "X_Tn = tnSviMultipleVariablesDf.drop('NOD_Rate', axis=1)\n",
    "y_Tn = tnSviMultipleVariablesDf['NOD_Rate']"
   ]
  },
  {
   "cell_type": "code",
   "execution_count": 13,
   "metadata": {},
   "outputs": [],
   "source": [
    "#define predictor and response variables\n",
    "X_Wy = wySviMultipleVariablesDf.drop('NOD_Rate', axis=1)\n",
    "y_Wy = wySviMultipleVariablesDf['NOD_Rate']"
   ]
  },
  {
   "cell_type": "code",
   "execution_count": 14,
   "metadata": {},
   "outputs": [],
   "source": [
    "#define scaler\n",
    "from sklearn.preprocessing import StandardScaler\n",
    "\n",
    "scaler = StandardScaler()"
   ]
  },
  {
   "cell_type": "markdown",
   "metadata": {},
   "source": [
    "The standard score of a sample x is calculated as:\n",
    "\n",
    "z = (x - u) / s\n",
    "\n",
    "where u is the mean of the training samples or zero if with_mean=False, and s is the standard deviation of the training samples or one if with_std=False."
   ]
  },
  {
   "cell_type": "markdown",
   "metadata": {},
   "source": [
    "The fit method is used to compute the mean and standard deviation of the input data, which will be used for later scaling. It is essentially the process of computing the parameters needed for the transformation. \n",
    "\n",
    "When you call fit, the StandardScaler calculates the mean and standard deviation of each feature in the training data. These parameters are stored in the mean_ and scale_ attributes of the scaler object"
   ]
  },
  {
   "cell_type": "markdown",
   "metadata": {},
   "source": [
    "The fit_transform method not only computes the mean and standard deviation but also applies the transformation to the data. It centers and scales the data based on the computed mean and standard deviation.\n",
    "\n",
    "It returns the transformed data, and the original data is not modified. The fit_transform method is often used when you have a training dataset and you want to both compute the scaling parameters and apply the transformation to the data in a single step."
   ]
  },
  {
   "cell_type": "code",
   "execution_count": 15,
   "metadata": {},
   "outputs": [],
   "source": [
    "# scaled_X\n",
    "scaled_X_Dc = pd.DataFrame(scaler.fit_transform(X_Dc), columns=X_Dc.columns)\n",
    "scaled_X_Tn = pd.DataFrame(scaler.fit_transform(X_Tn), columns=X_Tn.columns)\n",
    "scaled_X_Wy = pd.DataFrame(scaler.fit_transform(X_Wy), columns=X_Wy.columns)"
   ]
  },
  {
   "cell_type": "code",
   "execution_count": 16,
   "metadata": {},
   "outputs": [],
   "source": [
    "from sklearn.decomposition import PCA\n",
    "\n",
    "#define PCA model as many components\n",
    "pca_Dc = PCA(n_components=16)\n",
    "\n",
    "#define PCA model as many components\n",
    "pca_Tn = PCA(n_components=16)\n",
    "\n",
    "#define PCA model as many components\n",
    "pca_Wy = PCA(n_components=16)"
   ]
  },
  {
   "cell_type": "code",
   "execution_count": 17,
   "metadata": {},
   "outputs": [],
   "source": [
    "#fit PCA model to data\n",
    "pca_Dc_transformed_data = pca_Dc.fit_transform(scaled_X_Dc)\n",
    "\n",
    "#fit PCA model to data\n",
    "pca_Tn_transformed_data = pca_Tn.fit_transform(scaled_X_Tn)\n",
    "\n",
    "#fit PCA model to data\n",
    "pca_Wy_transformed_data = pca_Wy.fit_transform(scaled_X_Wy)"
   ]
  },
  {
   "cell_type": "code",
   "execution_count": 18,
   "metadata": {},
   "outputs": [
    {
     "data": {
      "image/png": "[encoded data removed]",
      "text/plain": [
       "<Figure size 640x480 with 1 Axes>"
      ]
     },
     "metadata": {},
     "output_type": "display_data"
    }
   ],
   "source": [
    "PC_values = np.arange(pca_Dc.n_components_) + 1\n",
    "plt.plot(PC_values, pca_Dc.explained_variance_ratio_, 'o-', linewidth=2, color='blue')\n",
    "plt.plot(PC_values, pca_Tn.explained_variance_ratio_, 'o-', linewidth=2, color='red')\n",
    "plt.plot(PC_values, pca_Wy.explained_variance_ratio_, 'o-', linewidth=2, color='orange')\n",
    "plt.title('Scree Plot')\n",
    "plt.xlabel('Principal Component')\n",
    "plt.ylabel('Variance Explained')\n",
    "plt.legend(['Dc', 'Tn','Wy'], loc='best')\n",
    "plt.show()"
   ]
  },
  {
   "cell_type": "code",
   "execution_count": null,
   "metadata": {},
   "outputs": [],
   "source": []
  },
  {
   "cell_type": "code",
   "execution_count": 19,
   "metadata": {},
   "outputs": [
    {
     "data": {
      "text/plain": [
       "array([28.4509114 , 23.86572287, 19.41395704, 10.82994822,  5.67163884,\n",
       "        3.57162945,  2.13881062,  1.91552005,  1.58031335,  1.01641731,\n",
       "        0.46457734,  0.37566308,  0.32899594,  0.23674773,  0.08640242,\n",
       "        0.05274432])"
      ]
     },
     "execution_count": 19,
     "metadata": {},
     "output_type": "execute_result"
    }
   ],
   "source": [
    "# Check how much variance is explained by each principal components as a percentage\n",
    "pca_Dc.explained_variance_ratio_*100"
   ]
  },
  {
   "cell_type": "code",
   "execution_count": 20,
   "metadata": {},
   "outputs": [
    {
     "data": {
      "text/plain": [
       "array([36.17576763, 19.32418567, 11.02230149,  7.37921856,  5.11883832,\n",
       "        4.22416931,  3.27208187,  2.61449297,  2.27977462,  1.93811427,\n",
       "        1.74317315,  1.40714039,  1.3226357 ,  0.9512686 ,  0.69076136,\n",
       "        0.53607607])"
      ]
     },
     "execution_count": 20,
     "metadata": {},
     "output_type": "execute_result"
    }
   ],
   "source": [
    "# Check how much variance is explained by each principal components as a percentage\n",
    "pca_Tn.explained_variance_ratio_*100"
   ]
  },
  {
   "cell_type": "code",
   "execution_count": 21,
   "metadata": {},
   "outputs": [
    {
     "data": {
      "text/plain": [
       "array([24.68061543, 19.80976797, 14.78431069, 11.02183165,  8.85833319,\n",
       "        4.76136324,  4.04763584,  3.37351002,  2.79526641,  2.11891787,\n",
       "        1.2753676 ,  1.02890123,  0.74524695,  0.41371025,  0.2499988 ,\n",
       "        0.03522287])"
      ]
     },
     "execution_count": 21,
     "metadata": {},
     "output_type": "execute_result"
    }
   ],
   "source": [
    "# Check how much variance is explained by each principal components as a percentage\n",
    "pca_Wy.explained_variance_ratio_*100"
   ]
  },
  {
   "cell_type": "code",
   "execution_count": 22,
   "metadata": {},
   "outputs": [
    {
     "data": {
      "image/png": "[encoded data removed]",
      "text/plain": [
       "<Figure size 640x480 with 1 Axes>"
      ]
     },
     "metadata": {},
     "output_type": "display_data"
    }
   ],
   "source": [
    "# plot cumulative variance explained\n",
    "plt.plot(PC_values, np.cumsum(pca_Dc.explained_variance_ratio_), 'bo-', linewidth=2, label='Dc')\n",
    "plt.plot(PC_values, np.cumsum(pca_Tn.explained_variance_ratio_), 'ro-', linewidth=2, label='Tn')\n",
    "plt.plot(PC_values, np.cumsum(pca_Wy.explained_variance_ratio_), 'o-',color='orange', linewidth=2, label='Wy')\n",
    "\n",
    "\n",
    "plt.title('Cumulative Variance Explained')\n",
    "plt.xlabel('Principal Component')\n",
    "plt.ylabel('Variance Explained')\n",
    "plt.legend(loc='lower right')\n",
    "plt.show()"
   ]
  },
  {
   "cell_type": "markdown",
   "metadata": {},
   "source": [
    "##### Now we explore the features using PCA "
   ]
  },
  {
   "cell_type": "code",
   "execution_count": 40,
   "metadata": {},
   "outputs": [],
   "source": [
    "scaled_pca2_Dc = PCA(n_components=16).fit(scaled_X_Dc)\n",
    "X_std_transformed_Dc = scaled_pca2_Dc.transform(scaled_X_Dc)"
   ]
  },
  {
   "cell_type": "code",
   "execution_count": 41,
   "metadata": {},
   "outputs": [],
   "source": [
    "scaled_pca2_Tn = PCA(n_components=16).fit(scaled_X_Tn)\n",
    "X_std_transformed2_Tn = scaled_pca2_Tn.transform(scaled_X_Tn)"
   ]
  },
  {
   "cell_type": "code",
   "execution_count": 42,
   "metadata": {},
   "outputs": [],
   "source": [
    "scaled_pca2_Wy = PCA(n_components=16).fit(scaled_X_Wy)\n",
    "X_std_transformed2_Wy = scaled_pca2_Wy.transform(scaled_X_Wy)"
   ]
  },
  {
   "cell_type": "code",
   "execution_count": 43,
   "metadata": {},
   "outputs": [],
   "source": [
    "first_pca_component = pd.DataFrame(\n",
    "    scaled_pca2_Dc.components_[0], index=X_Dc.columns, columns=[\"DC\"]\n",
    ")"
   ]
  },
  {
   "cell_type": "code",
   "execution_count": 44,
   "metadata": {},
   "outputs": [],
   "source": [
    "first_pca_component[\"TN\"] = scaled_pca2_Tn.components_[0]"
   ]
  },
  {
   "cell_type": "code",
   "execution_count": 45,
   "metadata": {},
   "outputs": [],
   "source": [
    "first_pca_component[\"WY\"] = scaled_pca2_Wy.components_[0]"
   ]
  },
  {
   "cell_type": "code",
   "execution_count": 46,
   "metadata": {},
   "outputs": [
    {
     "data": {
      "image/png": "[encoded data removed]",
      "text/plain": [
       "<Figure size 1000x800 with 1 Axes>"
      ]
     },
     "metadata": {},
     "output_type": "display_data"
    }
   ],
   "source": [
    "first_pca_component.plot.bar(\n",
    "    title=\"Weights of the first principal component\", figsize=(10, 8), color=[\"blue\", \"red\", \"orange\"]\n",
    ")\n",
    "\n",
    "_ = plt.tight_layout()"
   ]
  },
  {
   "cell_type": "code",
   "execution_count": 29,
   "metadata": {},
   "outputs": [
    {
     "data": {
      "text/html": [
       "<div>\n",
       "<style scoped>\n",
       "    .dataframe tbody tr th:only-of-type {\n",
       "        vertical-align: middle;\n",
       "    }\n",
       "\n",
       "    .dataframe tbody tr th {\n",
       "        vertical-align: top;\n",
       "    }\n",
       "\n",
       "    .dataframe thead th {\n",
       "        text-align: right;\n",
       "    }\n",
       "</style>\n",
       "<table border=\"1\" class=\"dataframe\">\n",
       "  <thead>\n",
       "    <tr style=\"text-align: right;\">\n",
       "      <th></th>\n",
       "      <th>DC</th>\n",
       "      <th>TN</th>\n",
       "      <th>WY</th>\n",
       "    </tr>\n",
       "  </thead>\n",
       "  <tbody>\n",
       "    <tr>\n",
       "      <th>EP_POV</th>\n",
       "      <td>0.006649</td>\n",
       "      <td>-0.310329</td>\n",
       "      <td>-0.107007</td>\n",
       "    </tr>\n",
       "    <tr>\n",
       "      <th>EP_UNEMP</th>\n",
       "      <td>0.092955</td>\n",
       "      <td>-0.225084</td>\n",
       "      <td>-0.185430</td>\n",
       "    </tr>\n",
       "    <tr>\n",
       "      <th>EP_PCI</th>\n",
       "      <td>-0.312924</td>\n",
       "      <td>0.339002</td>\n",
       "      <td>0.409862</td>\n",
       "    </tr>\n",
       "    <tr>\n",
       "      <th>EP_NOHSDP</th>\n",
       "      <td>0.111398</td>\n",
       "      <td>-0.348057</td>\n",
       "      <td>-0.189677</td>\n",
       "    </tr>\n",
       "    <tr>\n",
       "      <th>EP_UNINSUR</th>\n",
       "      <td>0.047749</td>\n",
       "      <td>-0.156272</td>\n",
       "      <td>-0.293041</td>\n",
       "    </tr>\n",
       "    <tr>\n",
       "      <th>EP_AGE65</th>\n",
       "      <td>0.335204</td>\n",
       "      <td>-0.264101</td>\n",
       "      <td>-0.259543</td>\n",
       "    </tr>\n",
       "    <tr>\n",
       "      <th>EP_AGE17</th>\n",
       "      <td>-0.017385</td>\n",
       "      <td>0.253264</td>\n",
       "      <td>-0.121924</td>\n",
       "    </tr>\n",
       "    <tr>\n",
       "      <th>EP_DISABL</th>\n",
       "      <td>0.382119</td>\n",
       "      <td>-0.366570</td>\n",
       "      <td>-0.411266</td>\n",
       "    </tr>\n",
       "    <tr>\n",
       "      <th>EP_SNGPNT</th>\n",
       "      <td>-0.021320</td>\n",
       "      <td>0.087204</td>\n",
       "      <td>0.031639</td>\n",
       "    </tr>\n",
       "    <tr>\n",
       "      <th>EP_LIMENG</th>\n",
       "      <td>-0.313775</td>\n",
       "      <td>0.225543</td>\n",
       "      <td>0.398824</td>\n",
       "    </tr>\n",
       "    <tr>\n",
       "      <th>EP_MINRTY</th>\n",
       "      <td>-0.349753</td>\n",
       "      <td>0.192925</td>\n",
       "      <td>0.123946</td>\n",
       "    </tr>\n",
       "    <tr>\n",
       "      <th>EP_MUNIT</th>\n",
       "      <td>-0.403322</td>\n",
       "      <td>0.289576</td>\n",
       "      <td>0.286375</td>\n",
       "    </tr>\n",
       "    <tr>\n",
       "      <th>EP_MOBILE</th>\n",
       "      <td>0.296318</td>\n",
       "      <td>-0.331769</td>\n",
       "      <td>-0.201312</td>\n",
       "    </tr>\n",
       "    <tr>\n",
       "      <th>EP_CROWD</th>\n",
       "      <td>-0.333590</td>\n",
       "      <td>0.006182</td>\n",
       "      <td>0.333870</td>\n",
       "    </tr>\n",
       "    <tr>\n",
       "      <th>EP_NOVEH</th>\n",
       "      <td>-0.191881</td>\n",
       "      <td>-0.143731</td>\n",
       "      <td>-0.059272</td>\n",
       "    </tr>\n",
       "    <tr>\n",
       "      <th>EP_GROUPQ</th>\n",
       "      <td>-0.014641</td>\n",
       "      <td>-0.118174</td>\n",
       "      <td>-0.004170</td>\n",
       "    </tr>\n",
       "  </tbody>\n",
       "</table>\n",
       "</div>"
      ],
      "text/plain": [
       "                  DC        TN        WY\n",
       "EP_POV      0.006649 -0.310329 -0.107007\n",
       "EP_UNEMP    0.092955 -0.225084 -0.185430\n",
       "EP_PCI     -0.312924  0.339002  0.409862\n",
       "EP_NOHSDP   0.111398 -0.348057 -0.189677\n",
       "EP_UNINSUR  0.047749 -0.156272 -0.293041\n",
       "EP_AGE65    0.335204 -0.264101 -0.259543\n",
       "EP_AGE17   -0.017385  0.253264 -0.121924\n",
       "EP_DISABL   0.382119 -0.366570 -0.411266\n",
       "EP_SNGPNT  -0.021320  0.087204  0.031639\n",
       "EP_LIMENG  -0.313775  0.225543  0.398824\n",
       "EP_MINRTY  -0.349753  0.192925  0.123946\n",
       "EP_MUNIT   -0.403322  0.289576  0.286375\n",
       "EP_MOBILE   0.296318 -0.331769 -0.201312\n",
       "EP_CROWD   -0.333590  0.006182  0.333870\n",
       "EP_NOVEH   -0.191881 -0.143731 -0.059272\n",
       "EP_GROUPQ  -0.014641 -0.118174 -0.004170"
      ]
     },
     "execution_count": 29,
     "metadata": {},
     "output_type": "execute_result"
    }
   ],
   "source": [
    "first_pca_component"
   ]
  },
  {
   "cell_type": "code",
   "execution_count": 31,
   "metadata": {},
   "outputs": [
    {
     "data": {
      "text/plain": [
       "EP_POV       -0.107007\n",
       "EP_UNEMP     -0.185430\n",
       "EP_PCI        0.409862\n",
       "EP_NOHSDP    -0.189677\n",
       "EP_UNINSUR   -0.293041\n",
       "EP_AGE65     -0.259543\n",
       "EP_AGE17     -0.121924\n",
       "EP_DISABL    -0.411266\n",
       "EP_SNGPNT     0.031639\n",
       "EP_LIMENG     0.398824\n",
       "EP_MINRTY     0.123946\n",
       "EP_MUNIT      0.286375\n",
       "EP_MOBILE    -0.201312\n",
       "EP_CROWD      0.333870\n",
       "EP_NOVEH     -0.059272\n",
       "EP_GROUPQ    -0.004170\n",
       "Name: WY, dtype: float64"
      ]
     },
     "execution_count": 31,
     "metadata": {},
     "output_type": "execute_result"
    }
   ],
   "source": [
    "first_pca_component['WY']"
   ]
  },
  {
   "cell_type": "code",
   "execution_count": 32,
   "metadata": {},
   "outputs": [
    {
     "data": {
      "text/plain": [
       "EP_DISABL     0.411266\n",
       "EP_PCI        0.409862\n",
       "EP_LIMENG     0.398824\n",
       "EP_CROWD      0.333870\n",
       "EP_UNINSUR    0.293041\n",
       "EP_MUNIT      0.286375\n",
       "EP_AGE65      0.259543\n",
       "EP_MOBILE     0.201312\n",
       "EP_NOHSDP     0.189677\n",
       "EP_UNEMP      0.185430\n",
       "EP_MINRTY     0.123946\n",
       "EP_AGE17      0.121924\n",
       "EP_POV        0.107007\n",
       "EP_NOVEH      0.059272\n",
       "EP_SNGPNT     0.031639\n",
       "EP_GROUPQ     0.004170\n",
       "Name: WY, dtype: float64"
      ]
     },
     "execution_count": 32,
     "metadata": {},
     "output_type": "execute_result"
    }
   ],
   "source": [
    "# sort first_pca_component['WY'] abs values without editing the original dataframe\n",
    "first_pca_component['WY'].abs().sort_values(ascending=False)\n"
   ]
  },
  {
   "cell_type": "code",
   "execution_count": null,
   "metadata": {},
   "outputs": [],
   "source": []
  },
  {
   "cell_type": "code",
   "execution_count": null,
   "metadata": {},
   "outputs": [],
   "source": []
  },
  {
   "cell_type": "code",
   "execution_count": 30,
   "metadata": {},
   "outputs": [
    {
     "name": "stdout",
     "output_type": "stream",
     "text": [
      "Top 5 indices for each column (ignoring negatives):\n",
      "{'DC': ['EP_MUNIT', 'EP_DISABL', 'EP_MINRTY', 'EP_AGE65', 'EP_CROWD'], 'TN': ['EP_DISABL', 'EP_NOHSDP', 'EP_PCI', 'EP_MOBILE', 'EP_POV'], 'WY': ['EP_DISABL', 'EP_PCI', 'EP_LIMENG', 'EP_CROWD', 'EP_UNINSUR']}\n"
     ]
    }
   ],
   "source": [
    "# Initialize a dictionary to store the indices of the top 5 absolute values for each column\n",
    "top_indices = {}\n",
    "\n",
    "# Iterate over each column in the DataFrame\n",
    "for col in first_pca_component.columns:\n",
    "    # Sort the absolute values of the column and get the indices of the top 5 values\n",
    "    top_indices[col] = first_pca_component[col].abs().nlargest(5).index.tolist()\n",
    "\n",
    "print(\"Top 5 indices for each column (ignoring negatives):\")\n",
    "print(top_indices)"
   ]
  },
  {
   "cell_type": "code",
   "execution_count": null,
   "metadata": {},
   "outputs": [],
   "source": []
  },
  {
   "cell_type": "code",
   "execution_count": null,
   "metadata": {},
   "outputs": [],
   "source": []
  }
 ],
 "metadata": {
  "kernelspec": {
   "display_name": "TDA",
   "language": "python",
   "name": "python3"
  },
  "language_info": {
   "codemirror_mode": {
    "name": "ipython",
    "version": 3
   },
   "file_extension": ".py",
   "mimetype": "text/x-python",
   "name": "python",
   "nbconvert_exporter": "python",
   "pygments_lexer": "ipython3",
   "version": "3.11.4"
  }
 },
 "nbformat": 4,
 "nbformat_minor": 2
}
