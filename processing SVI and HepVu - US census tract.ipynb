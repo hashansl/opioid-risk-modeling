{
 "cells": [
  {
   "cell_type": "markdown",
   "metadata": {},
   "source": [
    "### Processing SVI Census tract level data and HepVu death rates data into one dataframe\n",
    "This is done for all the census tracts in the US"
   ]
  },
  {
   "cell_type": "code",
   "execution_count": 1,
   "metadata": {},
   "outputs": [
    {
     "name": "stderr",
     "output_type": "stream",
     "text": [
      "/Users/h6x/anaconda3/envs/TDA/lib/python3.11/site-packages/pandas/core/arrays/masked.py:60: UserWarning: Pandas requires version '1.3.6' or newer of 'bottleneck' (version '1.3.5' currently installed).\n",
      "  from pandas.core import (\n"
     ]
    }
   ],
   "source": [
    "import pandas as pd\n",
    "import numpy as np\n",
    "import geopandas as gpd"
   ]
  },
  {
   "cell_type": "code",
   "execution_count": 2,
   "metadata": {},
   "outputs": [],
   "source": [
    "#import xlsx file as a dataframe\n",
    "HepVu_df = pd.read_excel('./data/HepVu_County_Opioid_Indicators_05DEC22.xlsx')"
   ]
  },
  {
   "cell_type": "code",
   "execution_count": 3,
   "metadata": {},
   "outputs": [
    {
     "data": {
      "text/html": [
       "<div>\n",
       "<style scoped>\n",
       "    .dataframe tbody tr th:only-of-type {\n",
       "        vertical-align: middle;\n",
       "    }\n",
       "\n",
       "    .dataframe tbody tr th {\n",
       "        vertical-align: top;\n",
       "    }\n",
       "\n",
       "    .dataframe thead th {\n",
       "        text-align: right;\n",
       "    }\n",
       "</style>\n",
       "<table border=\"1\" class=\"dataframe\">\n",
       "  <thead>\n",
       "    <tr style=\"text-align: right;\">\n",
       "      <th></th>\n",
       "      <th>GEO ID</th>\n",
       "      <th>State Abbreviation</th>\n",
       "      <th>County Name</th>\n",
       "      <th>Opioid Prescription Rate 2020</th>\n",
       "      <th>Narcotic Overdose Mortality Rate 2014</th>\n",
       "      <th>Narcotic Overdose Mortality Rate 2015</th>\n",
       "      <th>Narcotic Overdose Mortality Rate 2016</th>\n",
       "      <th>Narcotic Overdose Mortality Rate 2017</th>\n",
       "      <th>Narcotic Overdose Mortality Rate 2018</th>\n",
       "      <th>Narcotic Overdose Mortality Rate 2019</th>\n",
       "      <th>Narcotic Overdose Mortality Rate 2020</th>\n",
       "    </tr>\n",
       "  </thead>\n",
       "  <tbody>\n",
       "    <tr>\n",
       "      <th>0</th>\n",
       "      <td>1001</td>\n",
       "      <td>AL</td>\n",
       "      <td>Autauga County</td>\n",
       "      <td>98.3</td>\n",
       "      <td>8.2</td>\n",
       "      <td>8.8</td>\n",
       "      <td>10.7</td>\n",
       "      <td>9.8</td>\n",
       "      <td>10.9</td>\n",
       "      <td>9.2</td>\n",
       "      <td>11.6</td>\n",
       "    </tr>\n",
       "    <tr>\n",
       "      <th>1</th>\n",
       "      <td>1003</td>\n",
       "      <td>AL</td>\n",
       "      <td>Baldwin County</td>\n",
       "      <td>65.0</td>\n",
       "      <td>18.0</td>\n",
       "      <td>20.0</td>\n",
       "      <td>16.6</td>\n",
       "      <td>15.1</td>\n",
       "      <td>14.9</td>\n",
       "      <td>14.5</td>\n",
       "      <td>27.4</td>\n",
       "    </tr>\n",
       "    <tr>\n",
       "      <th>2</th>\n",
       "      <td>1005</td>\n",
       "      <td>AL</td>\n",
       "      <td>Barbour County</td>\n",
       "      <td>22.8</td>\n",
       "      <td>4.4</td>\n",
       "      <td>4.5</td>\n",
       "      <td>5.7</td>\n",
       "      <td>5.8</td>\n",
       "      <td>5.2</td>\n",
       "      <td>5.7</td>\n",
       "      <td>7.6</td>\n",
       "    </tr>\n",
       "    <tr>\n",
       "      <th>3</th>\n",
       "      <td>1007</td>\n",
       "      <td>AL</td>\n",
       "      <td>Bibb County</td>\n",
       "      <td>24.8</td>\n",
       "      <td>17.2</td>\n",
       "      <td>16.6</td>\n",
       "      <td>22.6</td>\n",
       "      <td>21.7</td>\n",
       "      <td>23.1</td>\n",
       "      <td>19.4</td>\n",
       "      <td>27.3</td>\n",
       "    </tr>\n",
       "    <tr>\n",
       "      <th>4</th>\n",
       "      <td>1009</td>\n",
       "      <td>AL</td>\n",
       "      <td>Blount County</td>\n",
       "      <td>22.8</td>\n",
       "      <td>18.6</td>\n",
       "      <td>18.9</td>\n",
       "      <td>22.7</td>\n",
       "      <td>27.0</td>\n",
       "      <td>19.9</td>\n",
       "      <td>20.3</td>\n",
       "      <td>24.2</td>\n",
       "    </tr>\n",
       "  </tbody>\n",
       "</table>\n",
       "</div>"
      ],
      "text/plain": [
       "   GEO ID State Abbreviation     County Name  Opioid Prescription Rate 2020  \\\n",
       "0    1001                 AL  Autauga County                           98.3   \n",
       "1    1003                 AL  Baldwin County                           65.0   \n",
       "2    1005                 AL  Barbour County                           22.8   \n",
       "3    1007                 AL     Bibb County                           24.8   \n",
       "4    1009                 AL   Blount County                           22.8   \n",
       "\n",
       "   Narcotic Overdose Mortality Rate 2014  \\\n",
       "0                                    8.2   \n",
       "1                                   18.0   \n",
       "2                                    4.4   \n",
       "3                                   17.2   \n",
       "4                                   18.6   \n",
       "\n",
       "   Narcotic Overdose Mortality Rate 2015  \\\n",
       "0                                    8.8   \n",
       "1                                   20.0   \n",
       "2                                    4.5   \n",
       "3                                   16.6   \n",
       "4                                   18.9   \n",
       "\n",
       "   Narcotic Overdose Mortality Rate 2016  \\\n",
       "0                                   10.7   \n",
       "1                                   16.6   \n",
       "2                                    5.7   \n",
       "3                                   22.6   \n",
       "4                                   22.7   \n",
       "\n",
       "   Narcotic Overdose Mortality Rate 2017  \\\n",
       "0                                    9.8   \n",
       "1                                   15.1   \n",
       "2                                    5.8   \n",
       "3                                   21.7   \n",
       "4                                   27.0   \n",
       "\n",
       "   Narcotic Overdose Mortality Rate 2018  \\\n",
       "0                                   10.9   \n",
       "1                                   14.9   \n",
       "2                                    5.2   \n",
       "3                                   23.1   \n",
       "4                                   19.9   \n",
       "\n",
       "   Narcotic Overdose Mortality Rate 2019  \\\n",
       "0                                    9.2   \n",
       "1                                   14.5   \n",
       "2                                    5.7   \n",
       "3                                   19.4   \n",
       "4                                   20.3   \n",
       "\n",
       "   Narcotic Overdose Mortality Rate 2020  \n",
       "0                                   11.6  \n",
       "1                                   27.4  \n",
       "2                                    7.6  \n",
       "3                                   27.3  \n",
       "4                                   24.2  "
      ]
     },
     "execution_count": 3,
     "metadata": {},
     "output_type": "execute_result"
    }
   ],
   "source": [
    "HepVu_df.head()"
   ]
  },
  {
   "cell_type": "code",
   "execution_count": 4,
   "metadata": {},
   "outputs": [
    {
     "data": {
      "text/plain": [
       "(3221, 11)"
      ]
     },
     "execution_count": 4,
     "metadata": {},
     "output_type": "execute_result"
    }
   ],
   "source": [
    "HepVu_df.shape"
   ]
  },
  {
   "cell_type": "markdown",
   "metadata": {},
   "source": [
    "#### Updating HepVu dataframe \"GEO ID\" column"
   ]
  },
  {
   "cell_type": "markdown",
   "metadata": {},
   "source": [
    "###### GEOID column needs to change: insert \"0\" infront of 4 character values to match other dataframe"
   ]
  },
  {
   "cell_type": "code",
   "execution_count": 5,
   "metadata": {},
   "outputs": [],
   "source": [
    "HepVu_df[\"GEO ID\"] = HepVu_df[\"GEO ID\"].astype(str)"
   ]
  },
  {
   "cell_type": "code",
   "execution_count": 6,
   "metadata": {},
   "outputs": [],
   "source": [
    "# Check the length of each value in the 'FIPS' column, and if it's 4 characters, prepend '0'\n",
    "HepVu_df['GEO ID'] = HepVu_df['GEO ID'].apply(lambda x: x.zfill(5) if len(x) == 4 else x)"
   ]
  },
  {
   "cell_type": "code",
   "execution_count": 7,
   "metadata": {},
   "outputs": [
    {
     "data": {
      "text/plain": [
       "'05023'"
      ]
     },
     "execution_count": 7,
     "metadata": {},
     "output_type": "execute_result"
    }
   ],
   "source": [
    "HepVu_df[\"GEO ID\"][123]"
   ]
  },
  {
   "cell_type": "markdown",
   "metadata": {},
   "source": [
    "#### Updating SVI \"Year\" dataframe"
   ]
  },
  {
   "cell_type": "code",
   "execution_count": 8,
   "metadata": {},
   "outputs": [],
   "source": [
    "# SVI \"Any year\" dataset is a shapefile, so we can read it in using geopandas\n",
    "SVI_df = gpd.read_file('./data/SVI data/census tract level/SVI2020_US_tract.gdb')"
   ]
  },
  {
   "cell_type": "code",
   "execution_count": 10,
   "metadata": {},
   "outputs": [
    {
     "data": {
      "text/html": [
       "<div>\n",
       "<style scoped>\n",
       "    .dataframe tbody tr th:only-of-type {\n",
       "        vertical-align: middle;\n",
       "    }\n",
       "\n",
       "    .dataframe tbody tr th {\n",
       "        vertical-align: top;\n",
       "    }\n",
       "\n",
       "    .dataframe thead th {\n",
       "        text-align: right;\n",
       "    }\n",
       "</style>\n",
       "<table border=\"1\" class=\"dataframe\">\n",
       "  <thead>\n",
       "    <tr style=\"text-align: right;\">\n",
       "      <th></th>\n",
       "      <th>ST</th>\n",
       "      <th>STATE</th>\n",
       "      <th>ST_ABBR</th>\n",
       "      <th>STCNTY</th>\n",
       "      <th>COUNTY</th>\n",
       "      <th>FIPS</th>\n",
       "      <th>LOCATION</th>\n",
       "      <th>AREA_SQMI</th>\n",
       "      <th>E_TOTPOP</th>\n",
       "      <th>M_TOTPOP</th>\n",
       "      <th>...</th>\n",
       "      <th>MP_AIAN</th>\n",
       "      <th>EP_NHPI</th>\n",
       "      <th>MP_NHPI</th>\n",
       "      <th>EP_TWOMORE</th>\n",
       "      <th>MP_TWOMORE</th>\n",
       "      <th>EP_OTHERRACE</th>\n",
       "      <th>MP_OTHERRACE</th>\n",
       "      <th>Shape_Length</th>\n",
       "      <th>Shape_Area</th>\n",
       "      <th>geometry</th>\n",
       "    </tr>\n",
       "  </thead>\n",
       "  <tbody>\n",
       "    <tr>\n",
       "      <th>0</th>\n",
       "      <td>01</td>\n",
       "      <td>Alabama</td>\n",
       "      <td>AL</td>\n",
       "      <td>01001</td>\n",
       "      <td>Autauga</td>\n",
       "      <td>01001020100</td>\n",
       "      <td>Census Tract 201, Autauga County, Alabama</td>\n",
       "      <td>3.793570</td>\n",
       "      <td>1941</td>\n",
       "      <td>390</td>\n",
       "      <td>...</td>\n",
       "      <td>1.8</td>\n",
       "      <td>0.0</td>\n",
       "      <td>1.8</td>\n",
       "      <td>6.6</td>\n",
       "      <td>5.1</td>\n",
       "      <td>0.0</td>\n",
       "      <td>1.8</td>\n",
       "      <td>0.150118</td>\n",
       "      <td>0.000949</td>\n",
       "      <td>MULTIPOLYGON (((-86.50910 32.47349, -86.50577 ...</td>\n",
       "    </tr>\n",
       "    <tr>\n",
       "      <th>1</th>\n",
       "      <td>01</td>\n",
       "      <td>Alabama</td>\n",
       "      <td>AL</td>\n",
       "      <td>01001</td>\n",
       "      <td>Autauga</td>\n",
       "      <td>01001020200</td>\n",
       "      <td>Census Tract 202, Autauga County, Alabama</td>\n",
       "      <td>1.282174</td>\n",
       "      <td>1757</td>\n",
       "      <td>310</td>\n",
       "      <td>...</td>\n",
       "      <td>2.0</td>\n",
       "      <td>0.0</td>\n",
       "      <td>2.0</td>\n",
       "      <td>2.6</td>\n",
       "      <td>3.0</td>\n",
       "      <td>0.8</td>\n",
       "      <td>1.1</td>\n",
       "      <td>0.092328</td>\n",
       "      <td>0.000318</td>\n",
       "      <td>MULTIPOLYGON (((-86.48093 32.48154, -86.47945 ...</td>\n",
       "    </tr>\n",
       "    <tr>\n",
       "      <th>2</th>\n",
       "      <td>01</td>\n",
       "      <td>Alabama</td>\n",
       "      <td>AL</td>\n",
       "      <td>01001</td>\n",
       "      <td>Autauga</td>\n",
       "      <td>01001020300</td>\n",
       "      <td>Census Tract 203, Autauga County, Alabama</td>\n",
       "      <td>2.065364</td>\n",
       "      <td>3694</td>\n",
       "      <td>570</td>\n",
       "      <td>...</td>\n",
       "      <td>0.9</td>\n",
       "      <td>0.0</td>\n",
       "      <td>0.9</td>\n",
       "      <td>1.8</td>\n",
       "      <td>2.3</td>\n",
       "      <td>0.0</td>\n",
       "      <td>0.9</td>\n",
       "      <td>0.100175</td>\n",
       "      <td>0.000516</td>\n",
       "      <td>MULTIPOLYGON (((-86.47087 32.47573, -86.46964 ...</td>\n",
       "    </tr>\n",
       "  </tbody>\n",
       "</table>\n",
       "<p>3 rows × 161 columns</p>\n",
       "</div>"
      ],
      "text/plain": [
       "   ST    STATE ST_ABBR STCNTY   COUNTY         FIPS  \\\n",
       "0  01  Alabama      AL  01001  Autauga  01001020100   \n",
       "1  01  Alabama      AL  01001  Autauga  01001020200   \n",
       "2  01  Alabama      AL  01001  Autauga  01001020300   \n",
       "\n",
       "                                    LOCATION  AREA_SQMI  E_TOTPOP  M_TOTPOP  \\\n",
       "0  Census Tract 201, Autauga County, Alabama   3.793570      1941       390   \n",
       "1  Census Tract 202, Autauga County, Alabama   1.282174      1757       310   \n",
       "2  Census Tract 203, Autauga County, Alabama   2.065364      3694       570   \n",
       "\n",
       "   ...  MP_AIAN  EP_NHPI  MP_NHPI  EP_TWOMORE  MP_TWOMORE  EP_OTHERRACE  \\\n",
       "0  ...      1.8      0.0      1.8         6.6         5.1           0.0   \n",
       "1  ...      2.0      0.0      2.0         2.6         3.0           0.8   \n",
       "2  ...      0.9      0.0      0.9         1.8         2.3           0.0   \n",
       "\n",
       "   MP_OTHERRACE  Shape_Length  Shape_Area  \\\n",
       "0           1.8      0.150118    0.000949   \n",
       "1           1.1      0.092328    0.000318   \n",
       "2           0.9      0.100175    0.000516   \n",
       "\n",
       "                                            geometry  \n",
       "0  MULTIPOLYGON (((-86.50910 32.47349, -86.50577 ...  \n",
       "1  MULTIPOLYGON (((-86.48093 32.48154, -86.47945 ...  \n",
       "2  MULTIPOLYGON (((-86.47087 32.47573, -86.46964 ...  \n",
       "\n",
       "[3 rows x 161 columns]"
      ]
     },
     "execution_count": 10,
     "metadata": {},
     "output_type": "execute_result"
    }
   ],
   "source": [
    "SVI_df.head(3)"
   ]
  },
  {
   "cell_type": "markdown",
   "metadata": {},
   "source": [
    "Now we need to add narcotic death rates from HepVu to SVI dataframe \\\n",
    "For each census tract, related county death rates will be added for further computation."
   ]
  },
  {
   "cell_type": "code",
   "execution_count": 11,
   "metadata": {},
   "outputs": [],
   "source": [
    "SVI_HepVu_df = SVI_df.merge(HepVu_df[['GEO ID','Narcotic Overdose Mortality Rate 2020']], left_on=\"STCNTY\", right_on=\"GEO ID\")"
   ]
  },
  {
   "cell_type": "code",
   "execution_count": 12,
   "metadata": {},
   "outputs": [],
   "source": [
    "# drop the 'GEO ID' column\n",
    "SVI_HepVu_df.drop(columns=['GEO ID'], inplace=True)"
   ]
  },
  {
   "cell_type": "code",
   "execution_count": 13,
   "metadata": {},
   "outputs": [
    {
     "data": {
      "text/html": [
       "<div>\n",
       "<style scoped>\n",
       "    .dataframe tbody tr th:only-of-type {\n",
       "        vertical-align: middle;\n",
       "    }\n",
       "\n",
       "    .dataframe tbody tr th {\n",
       "        vertical-align: top;\n",
       "    }\n",
       "\n",
       "    .dataframe thead th {\n",
       "        text-align: right;\n",
       "    }\n",
       "</style>\n",
       "<table border=\"1\" class=\"dataframe\">\n",
       "  <thead>\n",
       "    <tr style=\"text-align: right;\">\n",
       "      <th></th>\n",
       "      <th>ST</th>\n",
       "      <th>STATE</th>\n",
       "      <th>ST_ABBR</th>\n",
       "      <th>STCNTY</th>\n",
       "      <th>COUNTY</th>\n",
       "      <th>FIPS</th>\n",
       "      <th>LOCATION</th>\n",
       "      <th>AREA_SQMI</th>\n",
       "      <th>E_TOTPOP</th>\n",
       "      <th>M_TOTPOP</th>\n",
       "      <th>...</th>\n",
       "      <th>EP_NHPI</th>\n",
       "      <th>MP_NHPI</th>\n",
       "      <th>EP_TWOMORE</th>\n",
       "      <th>MP_TWOMORE</th>\n",
       "      <th>EP_OTHERRACE</th>\n",
       "      <th>MP_OTHERRACE</th>\n",
       "      <th>Shape_Length</th>\n",
       "      <th>Shape_Area</th>\n",
       "      <th>geometry</th>\n",
       "      <th>Narcotic Overdose Mortality Rate 2020</th>\n",
       "    </tr>\n",
       "  </thead>\n",
       "  <tbody>\n",
       "    <tr>\n",
       "      <th>0</th>\n",
       "      <td>01</td>\n",
       "      <td>Alabama</td>\n",
       "      <td>AL</td>\n",
       "      <td>01001</td>\n",
       "      <td>Autauga</td>\n",
       "      <td>01001020100</td>\n",
       "      <td>Census Tract 201, Autauga County, Alabama</td>\n",
       "      <td>3.793570</td>\n",
       "      <td>1941</td>\n",
       "      <td>390</td>\n",
       "      <td>...</td>\n",
       "      <td>0.0</td>\n",
       "      <td>1.8</td>\n",
       "      <td>6.6</td>\n",
       "      <td>5.1</td>\n",
       "      <td>0.0</td>\n",
       "      <td>1.8</td>\n",
       "      <td>0.150118</td>\n",
       "      <td>0.000949</td>\n",
       "      <td>MULTIPOLYGON (((-86.50910 32.47349, -86.50577 ...</td>\n",
       "      <td>11.6</td>\n",
       "    </tr>\n",
       "    <tr>\n",
       "      <th>1</th>\n",
       "      <td>01</td>\n",
       "      <td>Alabama</td>\n",
       "      <td>AL</td>\n",
       "      <td>01001</td>\n",
       "      <td>Autauga</td>\n",
       "      <td>01001020200</td>\n",
       "      <td>Census Tract 202, Autauga County, Alabama</td>\n",
       "      <td>1.282174</td>\n",
       "      <td>1757</td>\n",
       "      <td>310</td>\n",
       "      <td>...</td>\n",
       "      <td>0.0</td>\n",
       "      <td>2.0</td>\n",
       "      <td>2.6</td>\n",
       "      <td>3.0</td>\n",
       "      <td>0.8</td>\n",
       "      <td>1.1</td>\n",
       "      <td>0.092328</td>\n",
       "      <td>0.000318</td>\n",
       "      <td>MULTIPOLYGON (((-86.48093 32.48154, -86.47945 ...</td>\n",
       "      <td>11.6</td>\n",
       "    </tr>\n",
       "    <tr>\n",
       "      <th>2</th>\n",
       "      <td>01</td>\n",
       "      <td>Alabama</td>\n",
       "      <td>AL</td>\n",
       "      <td>01001</td>\n",
       "      <td>Autauga</td>\n",
       "      <td>01001020300</td>\n",
       "      <td>Census Tract 203, Autauga County, Alabama</td>\n",
       "      <td>2.065364</td>\n",
       "      <td>3694</td>\n",
       "      <td>570</td>\n",
       "      <td>...</td>\n",
       "      <td>0.0</td>\n",
       "      <td>0.9</td>\n",
       "      <td>1.8</td>\n",
       "      <td>2.3</td>\n",
       "      <td>0.0</td>\n",
       "      <td>0.9</td>\n",
       "      <td>0.100175</td>\n",
       "      <td>0.000516</td>\n",
       "      <td>MULTIPOLYGON (((-86.47087 32.47573, -86.46964 ...</td>\n",
       "      <td>11.6</td>\n",
       "    </tr>\n",
       "  </tbody>\n",
       "</table>\n",
       "<p>3 rows × 162 columns</p>\n",
       "</div>"
      ],
      "text/plain": [
       "   ST    STATE ST_ABBR STCNTY   COUNTY         FIPS  \\\n",
       "0  01  Alabama      AL  01001  Autauga  01001020100   \n",
       "1  01  Alabama      AL  01001  Autauga  01001020200   \n",
       "2  01  Alabama      AL  01001  Autauga  01001020300   \n",
       "\n",
       "                                    LOCATION  AREA_SQMI  E_TOTPOP  M_TOTPOP  \\\n",
       "0  Census Tract 201, Autauga County, Alabama   3.793570      1941       390   \n",
       "1  Census Tract 202, Autauga County, Alabama   1.282174      1757       310   \n",
       "2  Census Tract 203, Autauga County, Alabama   2.065364      3694       570   \n",
       "\n",
       "   ...  EP_NHPI  MP_NHPI  EP_TWOMORE  MP_TWOMORE  EP_OTHERRACE  MP_OTHERRACE  \\\n",
       "0  ...      0.0      1.8         6.6         5.1           0.0           1.8   \n",
       "1  ...      0.0      2.0         2.6         3.0           0.8           1.1   \n",
       "2  ...      0.0      0.9         1.8         2.3           0.0           0.9   \n",
       "\n",
       "   Shape_Length  Shape_Area  \\\n",
       "0      0.150118    0.000949   \n",
       "1      0.092328    0.000318   \n",
       "2      0.100175    0.000516   \n",
       "\n",
       "                                            geometry  \\\n",
       "0  MULTIPOLYGON (((-86.50910 32.47349, -86.50577 ...   \n",
       "1  MULTIPOLYGON (((-86.48093 32.48154, -86.47945 ...   \n",
       "2  MULTIPOLYGON (((-86.47087 32.47573, -86.46964 ...   \n",
       "\n",
       "   Narcotic Overdose Mortality Rate 2020  \n",
       "0                                   11.6  \n",
       "1                                   11.6  \n",
       "2                                   11.6  \n",
       "\n",
       "[3 rows x 162 columns]"
      ]
     },
     "execution_count": 13,
     "metadata": {},
     "output_type": "execute_result"
    }
   ],
   "source": [
    "SVI_HepVu_df.head(3)"
   ]
  },
  {
   "cell_type": "markdown",
   "metadata": {},
   "source": [
    "#### Saving dataframe to a geo file"
   ]
  },
  {
   "cell_type": "code",
   "execution_count": 14,
   "metadata": {},
   "outputs": [],
   "source": [
    "# rename  'Opioid Prescription Rate'\n",
    "SVI_HepVu_df.rename(columns = {'Narcotic Overdose Mortality Rate 2020':'NOD_Rate'}, inplace = True)"
   ]
  },
  {
   "cell_type": "code",
   "execution_count": 15,
   "metadata": {},
   "outputs": [],
   "source": [
    "# Convert the DataFrame to a GeoDataFrame\n",
    "SVI_HepVu_df = gpd.GeoDataFrame(SVI_HepVu_df, geometry='geometry')"
   ]
  },
  {
   "cell_type": "code",
   "execution_count": 16,
   "metadata": {},
   "outputs": [
    {
     "name": "stderr",
     "output_type": "stream",
     "text": [
      "/var/folders/j3/904q7dbj02j_jyjz7pvfgz384d40kw/T/ipykernel_70161/2493679348.py:2: UserWarning: Column names longer than 10 characters will be truncated when saved to ESRI Shapefile.\n",
      "  SVI_HepVu_df.to_file(\"./data/processed data/SVI - census tract level/SVI 2020 with HepVu census tracts/SVI2020_US_census_with_opioid_indicators.shp\")\n"
     ]
    }
   ],
   "source": [
    "# save SVI_HepVu_2018_df as a shapefile\n",
    "SVI_HepVu_df.to_file(\"./data/processed data/SVI - census tract level/SVI 2020 with HepVu census tracts/SVI2020_US_census_with_opioid_indicators.shp\")"
   ]
  },
  {
   "cell_type": "code",
   "execution_count": null,
   "metadata": {},
   "outputs": [],
   "source": []
  }
 ],
 "metadata": {
  "kernelspec": {
   "display_name": "TDA",
   "language": "python",
   "name": "python3"
  },
  "language_info": {
   "codemirror_mode": {
    "name": "ipython",
    "version": 3
   },
   "file_extension": ".py",
   "mimetype": "text/x-python",
   "name": "python",
   "nbconvert_exporter": "python",
   "pygments_lexer": "ipython3",
   "version": "3.1.-1"
  }
 },
 "nbformat": 4,
 "nbformat_minor": 2
}
